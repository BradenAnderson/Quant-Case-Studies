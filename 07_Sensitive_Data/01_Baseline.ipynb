{
 "cells": [
  {
   "cell_type": "code",
   "execution_count": 1,
   "id": "029bb5c7-7edc-40b4-b6a1-e483f9848a1c",
   "metadata": {},
   "outputs": [],
   "source": [
    "from sensitive_info import *\n",
    "from sklearn.preprocessing import StandardScaler"
   ]
  },
  {
   "cell_type": "code",
   "execution_count": 2,
   "id": "af6af64a-a1a1-4912-b7f8-b98269993079",
   "metadata": {},
   "outputs": [
    {
     "data": {
      "text/html": [
       "<div>\n",
       "<style scoped>\n",
       "    .dataframe tbody tr th:only-of-type {\n",
       "        vertical-align: middle;\n",
       "    }\n",
       "\n",
       "    .dataframe tbody tr th {\n",
       "        vertical-align: top;\n",
       "    }\n",
       "\n",
       "    .dataframe thead th {\n",
       "        text-align: right;\n",
       "    }\n",
       "</style>\n",
       "<table border=\"1\" class=\"dataframe\">\n",
       "  <thead>\n",
       "    <tr style=\"text-align: right;\">\n",
       "      <th></th>\n",
       "      <th>x0</th>\n",
       "      <th>x1</th>\n",
       "      <th>x2</th>\n",
       "      <th>x3</th>\n",
       "      <th>x4</th>\n",
       "      <th>x5</th>\n",
       "      <th>x6</th>\n",
       "      <th>x7</th>\n",
       "      <th>x8</th>\n",
       "      <th>x9</th>\n",
       "      <th>...</th>\n",
       "      <th>x41</th>\n",
       "      <th>x42</th>\n",
       "      <th>x43</th>\n",
       "      <th>x44</th>\n",
       "      <th>x45</th>\n",
       "      <th>x46</th>\n",
       "      <th>x47</th>\n",
       "      <th>x48</th>\n",
       "      <th>x49</th>\n",
       "      <th>y</th>\n",
       "    </tr>\n",
       "  </thead>\n",
       "  <tbody>\n",
       "    <tr>\n",
       "      <th>0</th>\n",
       "      <td>-0.166563</td>\n",
       "      <td>-3.961588</td>\n",
       "      <td>4.621113</td>\n",
       "      <td>2.481908</td>\n",
       "      <td>-1.800135</td>\n",
       "      <td>0.804684</td>\n",
       "      <td>6.718751</td>\n",
       "      <td>-14.789997</td>\n",
       "      <td>-1.040673</td>\n",
       "      <td>-4.204950</td>\n",
       "      <td>...</td>\n",
       "      <td>-1.497117</td>\n",
       "      <td>5.414063</td>\n",
       "      <td>-2.325655</td>\n",
       "      <td>1.674827</td>\n",
       "      <td>-0.264332</td>\n",
       "      <td>60.781427</td>\n",
       "      <td>-7.689696</td>\n",
       "      <td>0.151589</td>\n",
       "      <td>-8.040166</td>\n",
       "      <td>0</td>\n",
       "    </tr>\n",
       "    <tr>\n",
       "      <th>1</th>\n",
       "      <td>-0.149894</td>\n",
       "      <td>-0.585676</td>\n",
       "      <td>27.839856</td>\n",
       "      <td>4.152333</td>\n",
       "      <td>6.426802</td>\n",
       "      <td>-2.426943</td>\n",
       "      <td>40.477058</td>\n",
       "      <td>-6.725709</td>\n",
       "      <td>0.896421</td>\n",
       "      <td>0.330165</td>\n",
       "      <td>...</td>\n",
       "      <td>36.292790</td>\n",
       "      <td>4.490915</td>\n",
       "      <td>0.762561</td>\n",
       "      <td>6.526662</td>\n",
       "      <td>1.007927</td>\n",
       "      <td>15.805696</td>\n",
       "      <td>-4.896678</td>\n",
       "      <td>-0.320283</td>\n",
       "      <td>16.719974</td>\n",
       "      <td>0</td>\n",
       "    </tr>\n",
       "  </tbody>\n",
       "</table>\n",
       "<p>2 rows × 51 columns</p>\n",
       "</div>"
      ],
      "text/plain": [
       "         x0        x1         x2        x3        x4        x5         x6  \\\n",
       "0 -0.166563 -3.961588   4.621113  2.481908 -1.800135  0.804684   6.718751   \n",
       "1 -0.149894 -0.585676  27.839856  4.152333  6.426802 -2.426943  40.477058   \n",
       "\n",
       "          x7        x8        x9  ...        x41       x42       x43  \\\n",
       "0 -14.789997 -1.040673 -4.204950  ...  -1.497117  5.414063 -2.325655   \n",
       "1  -6.725709  0.896421  0.330165  ...  36.292790  4.490915  0.762561   \n",
       "\n",
       "        x44       x45        x46       x47       x48        x49  y  \n",
       "0  1.674827 -0.264332  60.781427 -7.689696  0.151589  -8.040166  0  \n",
       "1  6.526662  1.007927  15.805696 -4.896678 -0.320283  16.719974  0  \n",
       "\n",
       "[2 rows x 51 columns]"
      ]
     },
     "execution_count": 2,
     "metadata": {},
     "output_type": "execute_result"
    }
   ],
   "source": [
    "df = pd.read_csv(\"./CS7_preprocessed.csv\")\n",
    "df.head(2)"
   ]
  },
  {
   "cell_type": "code",
   "execution_count": 3,
   "id": "674aed3d-551a-4913-a184-759da2341d8a",
   "metadata": {},
   "outputs": [
    {
     "name": "stdout",
     "output_type": "stream",
     "text": [
      "<class 'pandas.core.frame.DataFrame'>\n",
      "RangeIndex: 160000 entries, 0 to 159999\n",
      "Data columns (total 51 columns):\n",
      " #   Column  Non-Null Count   Dtype   \n",
      "---  ------  --------------   -----   \n",
      " 0   x0      159974 non-null  float64 \n",
      " 1   x1      159975 non-null  float64 \n",
      " 2   x2      159962 non-null  float64 \n",
      " 3   x3      159963 non-null  float64 \n",
      " 4   x4      159974 non-null  float64 \n",
      " 5   x5      159963 non-null  float64 \n",
      " 6   x6      159974 non-null  float64 \n",
      " 7   x7      159973 non-null  float64 \n",
      " 8   x8      159979 non-null  float64 \n",
      " 9   x9      159970 non-null  float64 \n",
      " 10  x10     159957 non-null  float64 \n",
      " 11  x11     159970 non-null  float64 \n",
      " 12  x12     159964 non-null  float64 \n",
      " 13  x13     159969 non-null  float64 \n",
      " 14  x14     159966 non-null  float64 \n",
      " 15  x15     159965 non-null  float64 \n",
      " 16  x16     159974 non-null  float64 \n",
      " 17  x17     159973 non-null  float64 \n",
      " 18  x18     159960 non-null  float64 \n",
      " 19  x19     159965 non-null  float64 \n",
      " 20  x20     159962 non-null  float64 \n",
      " 21  x21     159971 non-null  float64 \n",
      " 22  x22     159973 non-null  float64 \n",
      " 23  x23     159953 non-null  float64 \n",
      " 24  x24     159972 non-null  category\n",
      " 25  x25     159978 non-null  float64 \n",
      " 26  x26     159964 non-null  float64 \n",
      " 27  x27     159970 non-null  float64 \n",
      " 28  x28     159965 non-null  float64 \n",
      " 29  x29     159970 non-null  category\n",
      " 30  x30     159970 non-null  category\n",
      " 31  x31     159961 non-null  float64 \n",
      " 32  x32     159969 non-null  float64 \n",
      " 33  x33     159959 non-null  float64 \n",
      " 34  x34     159959 non-null  float64 \n",
      " 35  x35     159970 non-null  float64 \n",
      " 36  x36     159973 non-null  float64 \n",
      " 37  x37     159977 non-null  float64 \n",
      " 38  x38     159969 non-null  float64 \n",
      " 39  x39     159977 non-null  float64 \n",
      " 40  x40     159964 non-null  float64 \n",
      " 41  x41     159960 non-null  float64 \n",
      " 42  x42     159974 non-null  float64 \n",
      " 43  x43     159963 non-null  float64 \n",
      " 44  x44     159960 non-null  float64 \n",
      " 45  x45     159971 non-null  float64 \n",
      " 46  x46     159969 non-null  float64 \n",
      " 47  x47     159963 non-null  float64 \n",
      " 48  x48     159968 non-null  float64 \n",
      " 49  x49     159968 non-null  float64 \n",
      " 50  y       160000 non-null  int64   \n",
      "dtypes: category(3), float64(47), int64(1)\n",
      "memory usage: 59.1 MB\n"
     ]
    }
   ],
   "source": [
    "df = convert_strings_to_category(df)\n",
    "df.info()"
   ]
  },
  {
   "cell_type": "code",
   "execution_count": 4,
   "id": "76982963-a931-41fa-861a-f223b8aa95d5",
   "metadata": {},
   "outputs": [
    {
     "name": "stdout",
     "output_type": "stream",
     "text": [
      "Train Shape: (128000, 51)\n",
      "Val Shape: (16000, 51)\n",
      "Test Shape: (16000, 51)\n"
     ]
    }
   ],
   "source": [
    "train_df, val_df, test_df = create_train_val_test_sets(df=df, \n",
    "                                                       target_column=\"y\", \n",
    "                                                       test_size=0.1, \n",
    "                                                       val_size=0.1, \n",
    "                                                       random_state=7742)"
   ]
  },
  {
   "cell_type": "code",
   "execution_count": 5,
   "id": "dd77e389-9f28-4fa4-ac2f-682a6f558e1a",
   "metadata": {},
   "outputs": [
    {
     "name": "stdout",
     "output_type": "stream",
     "text": [
      "DAI Train Shape: (128000, 17)\n",
      "DAI Val Shape: (16000, 17)\n",
      "DAI Test Shape: (16000, 17)\n"
     ]
    }
   ],
   "source": [
    "X_train = train_df.drop(columns=\"y\")\n",
    "y_train = train_df.loc[:,\"y\"].to_numpy()\n",
    "\n",
    "X_val = val_df.drop(columns=\"y\")\n",
    "y_val = val_df.loc[:,\"y\"].to_numpy()\n",
    "\n",
    "X_test = test_df.drop(columns=\"y\")\n",
    "y_test = test_df.loc[:,\"y\"].to_numpy()\n",
    "\n",
    "# Subset to features selected by DAI\n",
    "X_train_dai, X_val_dai, X_test_dai = subset_to_dai_selected_features(X_train=X_train, \n",
    "                                                                     X_val=X_val, \n",
    "                                                                     X_test=X_test)"
   ]
  },
  {
   "cell_type": "code",
   "execution_count": 6,
   "id": "4dc52a1e-8303-4fc0-96ba-039f4588a277",
   "metadata": {},
   "outputs": [
    {
     "data": {
      "text/plain": [
       "Index(['x48', 'x23', 'x27', 'x20', 'x28', 'x46', 'x49', 'x37', 'x42', 'x12',\n",
       "       'x32', 'x7', 'x2', 'x38', 'x41', 'x6', 'x40'],\n",
       "      dtype='object')"
      ]
     },
     "execution_count": 6,
     "metadata": {},
     "output_type": "execute_result"
    }
   ],
   "source": [
    "X_train_dai.columns"
   ]
  },
  {
   "cell_type": "code",
   "execution_count": 7,
   "id": "53bdc896-feed-410f-be41-7985ddd8742f",
   "metadata": {},
   "outputs": [
    {
     "data": {
      "text/plain": [
       "(128000, 17)"
      ]
     },
     "execution_count": 7,
     "metadata": {},
     "output_type": "execute_result"
    }
   ],
   "source": [
    "X_train_dai.shape"
   ]
  },
  {
   "cell_type": "code",
   "execution_count": 8,
   "id": "4ead5687-badc-480e-b164-d42a47204cd8",
   "metadata": {},
   "outputs": [],
   "source": [
    "scorers_dict = {\"accuracy\":make_scorer(accuracy_score), \n",
    "                \"f025_score\":make_scorer(fbeta_score, beta=0.25),\n",
    "                \"f05_score\":make_scorer(fbeta_score, beta=0.5), \n",
    "                \"avg_dollars_lost_per_prediction\":make_scorer(score_func=average_dollars_scorer_sklearn, \n",
    "                                                              greater_is_better=False)}\n",
    "\n",
    "scorers_dict_lgbm = scorers_dict.copy()\n",
    "scorers_dict_lgbm[\"best_iter_early_stopping\"]=get_lgbm_best_iter_sklearn"
   ]
  },
  {
   "cell_type": "markdown",
   "id": "4999e5ec-cee0-4046-9b4b-0f9a2bef08b5",
   "metadata": {},
   "source": [
    "## Model: MLP with Features from DAI"
   ]
  },
  {
   "cell_type": "code",
   "execution_count": 9,
   "id": "877c3c3d-b1bd-486a-82f8-3d89b10f7bb5",
   "metadata": {},
   "outputs": [
    {
     "name": "stdout",
     "output_type": "stream",
     "text": [
      "========== MLP using features from DAI ==========\n",
      "Training accuracy: 0.9453125\n",
      "Validation accuracy: 0.940125\n",
      "\n",
      "Training f025_score: 0.9366652834414027\n",
      "Validation f025_score: 0.9348460535082534\n",
      "\n",
      "Training f05_score: 0.9349798188813446\n",
      "Validation f05_score: 0.9314894293435064\n",
      "\n",
      "Training avg_dollars_lost_per_prediction: -3.07875\n",
      "Validation avg_dollars_lost_per_prediction: -3.1925\n",
      "\n",
      "=================================================\n",
      "CPU times: total: 30.3 s\n",
      "Wall time: 30.3 s\n"
     ]
    }
   ],
   "source": [
    "%%time \n",
    "\n",
    "mlp_pipe = Pipeline(steps=[(\"impute\", SimpleImputer(strategy=\"mean\")),\n",
    "                           (\"mlp\", MLPClassifier(random_state=7742, \n",
    "                                                 early_stopping=True,\n",
    "                                                 max_iter=10_000))])\n",
    "\n",
    "mlp_pipe.fit(X_train_dai, y_train)\n",
    "\n",
    "evaluate_baseline_model(X_train=X_train_dai, \n",
    "                        y_train=y_train, \n",
    "                        X_val=X_val_dai, \n",
    "                        y_val=y_val, \n",
    "                        model_pipe=mlp_pipe, \n",
    "                        model_name=\"MLP using features from DAI\", \n",
    "                        scorers_dict=scorers_dict)"
   ]
  },
  {
   "cell_type": "markdown",
   "id": "9503ec1b-fa59-4db1-af1f-bbb057ab1b44",
   "metadata": {},
   "source": [
    "## Model: MLP with Features from DAI, scaled inputs"
   ]
  },
  {
   "cell_type": "code",
   "execution_count": 10,
   "id": "e1a3127d-a80b-4f9c-986b-d1e967e3d057",
   "metadata": {},
   "outputs": [
    {
     "name": "stdout",
     "output_type": "stream",
     "text": [
      "========== MLP using features from DAI, scaled inputs ==========\n",
      "Training accuracy: 0.96765625\n",
      "Validation accuracy: 0.96025\n",
      "\n",
      "Training f025_score: 0.9624604892759075\n",
      "Validation f025_score: 0.9550579493973448\n",
      "\n",
      "Training f05_score: 0.9615294255844006\n",
      "Validation f05_score: 0.9534891034309254\n",
      "\n",
      "Training avg_dollars_lost_per_prediction: -1.83125\n",
      "Validation avg_dollars_lost_per_prediction: -2.2\n",
      "\n",
      "================================================================\n",
      "CPU times: total: 25.8 s\n",
      "Wall time: 25.7 s\n"
     ]
    }
   ],
   "source": [
    "%%time \n",
    "\n",
    "mlp_pipe = Pipeline(steps=[(\"impute\", SimpleImputer(strategy=\"mean\")),\n",
    "                           (\"scaler\", StandardScaler()),\n",
    "                           (\"mlp\", MLPClassifier(random_state=7742, \n",
    "                                                 early_stopping=True,\n",
    "                                                 max_iter=10_000))])\n",
    "\n",
    "mlp_pipe.fit(X_train_dai, y_train)\n",
    "\n",
    "evaluate_baseline_model(X_train=X_train_dai, \n",
    "                        y_train=y_train, \n",
    "                        X_val=X_val_dai, \n",
    "                        y_val=y_val, \n",
    "                        model_pipe=mlp_pipe, \n",
    "                        model_name=\"MLP using features from DAI, scaled inputs\", \n",
    "                        scorers_dict=scorers_dict)"
   ]
  },
  {
   "cell_type": "markdown",
   "id": "8431bbfd-2e92-4659-8d72-27c152856d41",
   "metadata": {},
   "source": [
    "## Model: MLP with All Features"
   ]
  },
  {
   "cell_type": "code",
   "execution_count": 11,
   "id": "9f7ed116-5044-4cfb-b184-8cb55f00880f",
   "metadata": {},
   "outputs": [
    {
     "name": "stdout",
     "output_type": "stream",
     "text": [
      "========== MLP using All Features ==========\n",
      "Training accuracy: 0.93040625\n",
      "Validation accuracy: 0.9190625\n",
      "\n",
      "Training f025_score: 0.9144974962714092\n",
      "Validation f025_score: 0.8996136870406225\n",
      "\n",
      "Training f05_score: 0.9140589002475653\n",
      "Validation f05_score: 0.8994354159518388\n",
      "\n",
      "Training avg_dollars_lost_per_prediction: -4.12125\n",
      "Validation avg_dollars_lost_per_prediction: -4.83375\n",
      "\n",
      "============================================\n"
     ]
    }
   ],
   "source": [
    "categorical_pipe = Pipeline(steps=[(\"categorical_imputer\", SimpleImputer(strategy=\"most_frequent\")), \n",
    "                                   (\"encode\", OneHotEncoder())])\n",
    "\n",
    "\n",
    "preprocess = ColumnTransformer(transformers=[(\"numeric_imputer\", SimpleImputer(), X_train.select_dtypes(include=[float, np.number, int]).columns.tolist()), \n",
    "                                             (\"cat_pipe\", categorical_pipe, X_train.select_dtypes(include=[\"category\"]).columns.tolist())], \n",
    "                               remainder=\"passthrough\")\n",
    "\n",
    "mlp_all_pipe = Pipeline(steps=[(\"preprocess\", preprocess), \n",
    "                               ('model',  MLPClassifier(random_state=7742, \n",
    "                                                        early_stopping=True,\n",
    "                                                        max_iter=10_000))])\n",
    "\n",
    "mlp_all_pipe.fit(X_train, y_train)\n",
    "\n",
    "evaluate_baseline_model(X_train=X_train, \n",
    "                        y_train=y_train, \n",
    "                        X_val=X_val, \n",
    "                        y_val=y_val, \n",
    "                        model_pipe=mlp_all_pipe, \n",
    "                        model_name=\"MLP using All Features\", \n",
    "                        scorers_dict=scorers_dict)"
   ]
  },
  {
   "cell_type": "markdown",
   "id": "5876e636-8798-42fa-84a4-487a160643a7",
   "metadata": {},
   "source": [
    "## Model: MLP with All Features, scaled inputs"
   ]
  },
  {
   "cell_type": "code",
   "execution_count": 12,
   "id": "483a090e-5519-4a45-a67a-4d78f8ac8a2f",
   "metadata": {},
   "outputs": [
    {
     "name": "stdout",
     "output_type": "stream",
     "text": [
      "========== MLP using All Features, scaled inputs ==========\n",
      "Training accuracy: 0.957625\n",
      "Validation accuracy: 0.9400625\n",
      "\n",
      "Training f025_score: 0.9515537654942536\n",
      "Validation f025_score: 0.9314613329858623\n",
      "\n",
      "Training f05_score: 0.9500601117371114\n",
      "Validation f05_score: 0.9292817679558012\n",
      "\n",
      "Training avg_dollars_lost_per_prediction: -2.365625\n",
      "Validation avg_dollars_lost_per_prediction: -3.33375\n",
      "\n",
      "===========================================================\n"
     ]
    }
   ],
   "source": [
    "categorical_pipe = Pipeline(steps=[(\"categorical_imputer\", SimpleImputer(strategy=\"most_frequent\")), \n",
    "                                   (\"encode\", OneHotEncoder())])\n",
    "\n",
    "numeric_pipe = Pipeline(steps=[(\"numeric_imputer\", SimpleImputer(strategy=\"most_frequent\")), \n",
    "                               (\"scale\", StandardScaler())])\n",
    "\n",
    "preprocess = ColumnTransformer(transformers=[(\"numeric_pipe\", numeric_pipe, X_train.select_dtypes(include=[float, np.number, int]).columns.tolist()), \n",
    "                                             (\"cat_pipe\", categorical_pipe, X_train.select_dtypes(include=[\"category\"]).columns.tolist())], \n",
    "                               remainder=\"passthrough\")\n",
    "\n",
    "mlp_all_pipe = Pipeline(steps=[(\"preprocess\", preprocess), \n",
    "                               ('model',  MLPClassifier(random_state=7742, \n",
    "                                                        early_stopping=True,\n",
    "                                                        max_iter=10_000))])\n",
    "\n",
    "mlp_all_pipe.fit(X_train, y_train)\n",
    "\n",
    "evaluate_baseline_model(X_train=X_train, \n",
    "                        y_train=y_train, \n",
    "                        X_val=X_val, \n",
    "                        y_val=y_val, \n",
    "                        model_pipe=mlp_all_pipe, \n",
    "                        model_name=\"MLP using All Features, scaled inputs\", \n",
    "                        scorers_dict=scorers_dict)"
   ]
  },
  {
   "cell_type": "markdown",
   "id": "dec94af7-f5c9-441d-8334-22833e74d5df",
   "metadata": {},
   "source": [
    "## Model: KNN with Features from DAI"
   ]
  },
  {
   "cell_type": "code",
   "execution_count": 13,
   "id": "b93f4af7-a455-41cf-aef4-0211c60e38aa",
   "metadata": {},
   "outputs": [
    {
     "name": "stdout",
     "output_type": "stream",
     "text": [
      "========== KNN (5 Neighbors) using features from DAI ==========\n",
      "Training accuracy: 0.9679453125\n",
      "Validation accuracy: 0.94975\n",
      "\n",
      "Training f025_score: 0.9614819752008182\n",
      "Validation f025_score: 0.9401311965457112\n",
      "\n",
      "Training f05_score: 0.961002241609585\n",
      "Validation f05_score: 0.9391745792986744\n",
      "\n",
      "Training avg_dollars_lost_per_prediction: -1.86671875\n",
      "Validation avg_dollars_lost_per_prediction: -2.9\n",
      "\n",
      "===============================================================\n"
     ]
    }
   ],
   "source": [
    "knn_pipe = Pipeline(steps=[(\"impute\", SimpleImputer(strategy=\"mean\")),\n",
    "                           (\"scaler\", StandardScaler()),\n",
    "                           (\"knn\", KNeighborsClassifier(n_jobs=5))])\n",
    "\n",
    "knn_pipe.fit(X_train_dai, y_train)\n",
    "\n",
    "evaluate_baseline_model(X_train=X_train_dai, \n",
    "                        y_train=y_train, \n",
    "                        X_val=X_val_dai, \n",
    "                        y_val=y_val, \n",
    "                        model_pipe=knn_pipe, \n",
    "                        model_name=\"KNN (5 Neighbors) using features from DAI\", \n",
    "                        scorers_dict=scorers_dict)"
   ]
  },
  {
   "cell_type": "markdown",
   "id": "6c528d35-77b2-43ac-9e90-4b6b0d926377",
   "metadata": {},
   "source": [
    "## Model: KNN with All Features"
   ]
  },
  {
   "cell_type": "code",
   "execution_count": 14,
   "id": "0e5f13fb-db1a-45c6-a758-576b89b751b4",
   "metadata": {},
   "outputs": [
    {
     "name": "stdout",
     "output_type": "stream",
     "text": [
      "========== KNN (5 Neighbors) using all features ==========\n",
      "Training accuracy: 0.891796875\n",
      "Validation accuracy: 0.81875\n",
      "\n",
      "Training f025_score: 0.8882430158772919\n",
      "Validation f025_score: 0.7976198852157482\n",
      "\n",
      "Training f05_score: 0.8791278978729015\n",
      "Validation f05_score: 0.7862027149930947\n",
      "\n",
      "Training avg_dollars_lost_per_prediction: -5.3896875\n",
      "Validation avg_dollars_lost_per_prediction: -9.37\n",
      "\n",
      "==========================================================\n"
     ]
    }
   ],
   "source": [
    "categorical_pipe = Pipeline(steps=[(\"numeric_imputer\", SimpleImputer(strategy=\"most_frequent\")), \n",
    "                                   (\"encode\", OneHotEncoder())])\n",
    "\n",
    "numeric_pipe = Pipeline(steps=[(\"numeric_imputer\", SimpleImputer(strategy=\"most_frequent\")), \n",
    "                               (\"scale\", StandardScaler())])\n",
    "\n",
    "preprocess = ColumnTransformer(transformers=[(\"numeric_pipe\", numeric_pipe, X_train.select_dtypes(include=[float, np.number, int]).columns.tolist()), \n",
    "                                             (\"cat_pipe\", categorical_pipe, X_train.select_dtypes(include=[\"category\"]).columns.tolist())], \n",
    "                               remainder=\"passthrough\")\n",
    "\n",
    "knn_all_pipe = Pipeline(steps=[(\"preprocess\", preprocess),\n",
    "                               (\"knn\", KNeighborsClassifier(n_jobs=5))])\n",
    "\n",
    "knn_all_pipe.fit(X_train, y_train)\n",
    "\n",
    "evaluate_baseline_model(X_train=X_train, \n",
    "                        y_train=y_train, \n",
    "                        X_val=X_val, \n",
    "                        y_val=y_val, \n",
    "                        model_pipe=knn_all_pipe, \n",
    "                        model_name=\"KNN (5 Neighbors) using all features\", \n",
    "                        scorers_dict=scorers_dict)"
   ]
  },
  {
   "cell_type": "markdown",
   "id": "b5bd27af-c8d2-43ea-b1ed-215fce72b3da",
   "metadata": {},
   "source": [
    "## Model: LogisticRegression with Features from DAI"
   ]
  },
  {
   "cell_type": "code",
   "execution_count": 15,
   "id": "ba3fd53b-e5ec-4bf7-a25b-8de6c7a8864f",
   "metadata": {},
   "outputs": [
    {
     "name": "stdout",
     "output_type": "stream",
     "text": [
      "========== Logistic Regression using features from DAI ==========\n",
      "Training accuracy: 0.70209375\n",
      "Validation accuracy: 0.7046875\n",
      "\n",
      "Training f025_score: 0.654640265977953\n",
      "Validation f025_score: 0.6608560274570394\n",
      "\n",
      "Training f05_score: 0.6295790800610386\n",
      "Validation f05_score: 0.6335781015724117\n",
      "\n",
      "Training avg_dollars_lost_per_prediction: -14.298125\n",
      "Validation avg_dollars_lost_per_prediction: -13.91625\n",
      "\n",
      "=================================================================\n"
     ]
    }
   ],
   "source": [
    "logreg_pipe = Pipeline(steps=[(\"impute\", SimpleImputer(strategy=\"mean\")),\n",
    "                           (\"logreg\", LogisticRegression(max_iter=20_000))])\n",
    "\n",
    "logreg_pipe.fit(X_train_dai, y_train)\n",
    "\n",
    "evaluate_baseline_model(X_train=X_train_dai, \n",
    "                        y_train=y_train, \n",
    "                        X_val=X_val_dai, \n",
    "                        y_val=y_val, \n",
    "                        model_pipe=logreg_pipe, \n",
    "                        model_name=\"Logistic Regression using features from DAI\", \n",
    "                        scorers_dict=scorers_dict)"
   ]
  },
  {
   "cell_type": "markdown",
   "id": "9d780b50-ae6c-4447-afb6-8afb08eeaa76",
   "metadata": {},
   "source": [
    "## Model: LogisticRegression with All Features"
   ]
  },
  {
   "cell_type": "code",
   "execution_count": 16,
   "id": "07368a92-f635-4c58-a3fb-edd4a0161c4d",
   "metadata": {},
   "outputs": [
    {
     "name": "stdout",
     "output_type": "stream",
     "text": [
      "========== Logistic Regression using All Features ==========\n",
      "Training accuracy: 0.7020859375\n",
      "Validation accuracy: 0.7051875\n",
      "\n",
      "Training f025_score: 0.6552519264103946\n",
      "Validation f025_score: 0.6625500231561198\n",
      "\n",
      "Training f05_score: 0.6295860972847449\n",
      "Validation f05_score: 0.6343990412494684\n",
      "\n",
      "Training avg_dollars_lost_per_prediction: -14.23078125\n",
      "Validation avg_dollars_lost_per_prediction: -13.79625\n",
      "\n",
      "============================================================\n"
     ]
    }
   ],
   "source": [
    "categorical_pipe = Pipeline(steps=[(\"numeric_imputer\", SimpleImputer(strategy=\"most_frequent\")), \n",
    "                                   (\"encode\", OneHotEncoder())])\n",
    "\n",
    "preprocess = ColumnTransformer(transformers=[(\"numeric_imputer\", SimpleImputer(), X_train.select_dtypes(include=[float, np.number, int]).columns.tolist()), \n",
    "                                             (\"cat_pipe\", categorical_pipe, X_train.select_dtypes(include=[\"category\"]).columns.tolist())], \n",
    "                               remainder=\"passthrough\")\n",
    "\n",
    "logreg_all_pipe = Pipeline(steps=[(\"preprocess\", preprocess),\n",
    "                                  (\"logreg\", LogisticRegression(max_iter=20_000))])\n",
    "\n",
    "\n",
    "logreg_all_pipe.fit(X_train, y_train)\n",
    "\n",
    "evaluate_baseline_model(X_train=X_train, \n",
    "                        y_train=y_train, \n",
    "                        X_val=X_val, \n",
    "                        y_val=y_val, \n",
    "                        model_pipe=logreg_all_pipe, \n",
    "                        model_name=\"Logistic Regression using All Features\", \n",
    "                        scorers_dict=scorers_dict)"
   ]
  },
  {
   "cell_type": "markdown",
   "id": "a34b2098-041f-42a0-899b-e0a20201bf46",
   "metadata": {},
   "source": [
    "## Model: Best DAI Hyperparameters"
   ]
  },
  {
   "cell_type": "code",
   "execution_count": 17,
   "id": "9f6a42b6-7c30-4c68-81ca-31e1d216f505",
   "metadata": {},
   "outputs": [],
   "source": [
    "EARLY_STOPPING_ROUNDS = 5 \n",
    "best_params = {\"boosting_type\":\"gbdt\",\n",
    "               \"colsample_bytree\":0.8,\n",
    "               \"bagging_seed\":7742,\n",
    "               \"feature_fraction_seed\":7743,\n",
    "               \"importance_type\":\"gain\",\n",
    "               \"learning_rate\":0.05,\n",
    "               \"max_bin\":63,\n",
    "               \"max_delta_step\":0.0,\n",
    "               \"max_depth\":10,\n",
    "               \"num_leaves\":1024,\n",
    "               \"min_child_samples\":20,\n",
    "               \"min_child_weight\":0.001,\n",
    "               \"min_data_in_bin\":1,\n",
    "               \"min_split_gain\":0.0,\n",
    "               \"n_estimators\":715,\n",
    "               \"objective\":\"binary\",\n",
    "               \"reg_alpha\":0.0,\n",
    "               \"reg_lambda\":0.0,\n",
    "               \"scale_pos_weight\":1.0,\n",
    "               \"seed\":534401655,\n",
    "               \"subsample\":0.7,\n",
    "               \"subsample_freq\":1}\n",
    "\n",
    "best_param_grid = {key:[value] for key, value in best_params.items()}"
   ]
  },
  {
   "cell_type": "code",
   "execution_count": 18,
   "id": "c4fe5f79-f43c-4a7e-9352-b455bf1f5046",
   "metadata": {},
   "outputs": [],
   "source": [
    "DAI_MONOTIC_CONSTRAINTS = [-1, 1, -1, 0, 0, 1, 0, 0, 0, -1, -1, 0, 0, 0, 0, 1, 1] \n",
    "dai_mono_column_sorted = sorted([int(col[1:]) for col in X_train_dai.columns])\n",
    "dai_mono_columns = [f\"x{col_num}\" for col_num in dai_mono_column_sorted] \n",
    "X_train_dai_mono = X_train_dai.loc[:, dai_mono_columns]\n",
    "X_val_dai_mono = X_val_dai.loc[:, dai_mono_columns]\n",
    "\n",
    "best_param_grid_mono = best_param_grid.copy()\n",
    "best_param_grid_mono['monotone_constraints'] = [DAI_MONOTIC_CONSTRAINTS]\n",
    "best_param_grid_mono['monotone_constraints_method'] = [\"intermediate\"]\n",
    "best_param_grid_mono['monotonicity_constraints'] = [True]"
   ]
  },
  {
   "cell_type": "code",
   "execution_count": 19,
   "id": "29bfec6a-e7a1-40c6-97d5-10d2b00ac733",
   "metadata": {},
   "outputs": [
    {
     "name": "stdout",
     "output_type": "stream",
     "text": [
      "[LightGBM] [Warning] Unknown parameter: monotonicity_constraints\n",
      "[LightGBM] [Warning] seed is set=534401655, random_state=7742 will be ignored. Current value: seed=534401655\n",
      "Training until validation scores don't improve for 5 rounds\n",
      "Early stopping, best iteration is:\n",
      "[634]\tvalid_0's binary_logloss: 0.166714\tvalid_0's avg_dollars_lost_per_prediction: 3.4275\tvalid_0's f05_score: 0.92683\n",
      "Evaluated only: binary_logloss\n",
      "CPU times: total: 3min 7s\n",
      "Wall time: 1min 41s\n"
     ]
    },
    {
     "data": {
      "text/html": [
       "<style>#sk-container-id-1 {color: black;background-color: white;}#sk-container-id-1 pre{padding: 0;}#sk-container-id-1 div.sk-toggleable {background-color: white;}#sk-container-id-1 label.sk-toggleable__label {cursor: pointer;display: block;width: 100%;margin-bottom: 0;padding: 0.3em;box-sizing: border-box;text-align: center;}#sk-container-id-1 label.sk-toggleable__label-arrow:before {content: \"▸\";float: left;margin-right: 0.25em;color: #696969;}#sk-container-id-1 label.sk-toggleable__label-arrow:hover:before {color: black;}#sk-container-id-1 div.sk-estimator:hover label.sk-toggleable__label-arrow:before {color: black;}#sk-container-id-1 div.sk-toggleable__content {max-height: 0;max-width: 0;overflow: hidden;text-align: left;background-color: #f0f8ff;}#sk-container-id-1 div.sk-toggleable__content pre {margin: 0.2em;color: black;border-radius: 0.25em;background-color: #f0f8ff;}#sk-container-id-1 input.sk-toggleable__control:checked~div.sk-toggleable__content {max-height: 200px;max-width: 100%;overflow: auto;}#sk-container-id-1 input.sk-toggleable__control:checked~label.sk-toggleable__label-arrow:before {content: \"▾\";}#sk-container-id-1 div.sk-estimator input.sk-toggleable__control:checked~label.sk-toggleable__label {background-color: #d4ebff;}#sk-container-id-1 div.sk-label input.sk-toggleable__control:checked~label.sk-toggleable__label {background-color: #d4ebff;}#sk-container-id-1 input.sk-hidden--visually {border: 0;clip: rect(1px 1px 1px 1px);clip: rect(1px, 1px, 1px, 1px);height: 1px;margin: -1px;overflow: hidden;padding: 0;position: absolute;width: 1px;}#sk-container-id-1 div.sk-estimator {font-family: monospace;background-color: #f0f8ff;border: 1px dotted black;border-radius: 0.25em;box-sizing: border-box;margin-bottom: 0.5em;}#sk-container-id-1 div.sk-estimator:hover {background-color: #d4ebff;}#sk-container-id-1 div.sk-parallel-item::after {content: \"\";width: 100%;border-bottom: 1px solid gray;flex-grow: 1;}#sk-container-id-1 div.sk-label:hover label.sk-toggleable__label {background-color: #d4ebff;}#sk-container-id-1 div.sk-serial::before {content: \"\";position: absolute;border-left: 1px solid gray;box-sizing: border-box;top: 0;bottom: 0;left: 50%;z-index: 0;}#sk-container-id-1 div.sk-serial {display: flex;flex-direction: column;align-items: center;background-color: white;padding-right: 0.2em;padding-left: 0.2em;position: relative;}#sk-container-id-1 div.sk-item {position: relative;z-index: 1;}#sk-container-id-1 div.sk-parallel {display: flex;align-items: stretch;justify-content: center;background-color: white;position: relative;}#sk-container-id-1 div.sk-item::before, #sk-container-id-1 div.sk-parallel-item::before {content: \"\";position: absolute;border-left: 1px solid gray;box-sizing: border-box;top: 0;bottom: 0;left: 50%;z-index: -1;}#sk-container-id-1 div.sk-parallel-item {display: flex;flex-direction: column;z-index: 1;position: relative;background-color: white;}#sk-container-id-1 div.sk-parallel-item:first-child::after {align-self: flex-end;width: 50%;}#sk-container-id-1 div.sk-parallel-item:last-child::after {align-self: flex-start;width: 50%;}#sk-container-id-1 div.sk-parallel-item:only-child::after {width: 0;}#sk-container-id-1 div.sk-dashed-wrapped {border: 1px dashed gray;margin: 0 0.4em 0.5em 0.4em;box-sizing: border-box;padding-bottom: 0.4em;background-color: white;}#sk-container-id-1 div.sk-label label {font-family: monospace;font-weight: bold;display: inline-block;line-height: 1.2em;}#sk-container-id-1 div.sk-label-container {text-align: center;}#sk-container-id-1 div.sk-container {/* jupyter's `normalize.less` sets `[hidden] { display: none; }` but bootstrap.min.css set `[hidden] { display: none !important; }` so we also need the `!important` here to be able to override the default hidden behavior on the sphinx rendered scikit-learn.org. See: https://github.com/scikit-learn/scikit-learn/issues/21755 */display: inline-block !important;position: relative;}#sk-container-id-1 div.sk-text-repr-fallback {display: none;}</style><div id=\"sk-container-id-1\" class=\"sk-top-container\"><div class=\"sk-text-repr-fallback\"><pre>GridSearchCV(cv=StratifiedKFold(n_splits=5, random_state=7742, shuffle=True),\n",
       "             error_score=&#x27;raise&#x27;,\n",
       "             estimator=LGBMClassifier(n_jobs=32, random_state=7742), n_jobs=32,\n",
       "             param_grid={&#x27;bagging_seed&#x27;: [7742], &#x27;boosting_type&#x27;: [&#x27;gbdt&#x27;],\n",
       "                         &#x27;colsample_bytree&#x27;: [0.8],\n",
       "                         &#x27;feature_fraction_seed&#x27;: [7743],\n",
       "                         &#x27;importance_type&#x27;: [&#x27;gain&#x27;], &#x27;learning_rate&#x27;: [0.05],\n",
       "                         &#x27;max_bin&#x27;: [63], &#x27;max_delta_...\n",
       "                         &#x27;seed&#x27;: [534401655], &#x27;subsample&#x27;: [0.7],\n",
       "                         &#x27;subsample_freq&#x27;: [1]},\n",
       "             refit=&#x27;avg_dollars_lost_per_prediction&#x27;, return_train_score=True,\n",
       "             scoring={&#x27;accuracy&#x27;: make_scorer(accuracy_score),\n",
       "                      &#x27;avg_dollars_lost_per_prediction&#x27;: make_scorer(average_dollars_scorer_sklearn, greater_is_better=False),\n",
       "                      &#x27;f025_score&#x27;: make_scorer(fbeta_score, beta=0.25),\n",
       "                      &#x27;f05_score&#x27;: make_scorer(fbeta_score, beta=0.5)})</pre><b>In a Jupyter environment, please rerun this cell to show the HTML representation or trust the notebook. <br />On GitHub, the HTML representation is unable to render, please try loading this page with nbviewer.org.</b></div><div class=\"sk-container\" hidden><div class=\"sk-item sk-dashed-wrapped\"><div class=\"sk-label-container\"><div class=\"sk-label sk-toggleable\"><input class=\"sk-toggleable__control sk-hidden--visually\" id=\"sk-estimator-id-1\" type=\"checkbox\" ><label for=\"sk-estimator-id-1\" class=\"sk-toggleable__label sk-toggleable__label-arrow\">GridSearchCV</label><div class=\"sk-toggleable__content\"><pre>GridSearchCV(cv=StratifiedKFold(n_splits=5, random_state=7742, shuffle=True),\n",
       "             error_score=&#x27;raise&#x27;,\n",
       "             estimator=LGBMClassifier(n_jobs=32, random_state=7742), n_jobs=32,\n",
       "             param_grid={&#x27;bagging_seed&#x27;: [7742], &#x27;boosting_type&#x27;: [&#x27;gbdt&#x27;],\n",
       "                         &#x27;colsample_bytree&#x27;: [0.8],\n",
       "                         &#x27;feature_fraction_seed&#x27;: [7743],\n",
       "                         &#x27;importance_type&#x27;: [&#x27;gain&#x27;], &#x27;learning_rate&#x27;: [0.05],\n",
       "                         &#x27;max_bin&#x27;: [63], &#x27;max_delta_...\n",
       "                         &#x27;seed&#x27;: [534401655], &#x27;subsample&#x27;: [0.7],\n",
       "                         &#x27;subsample_freq&#x27;: [1]},\n",
       "             refit=&#x27;avg_dollars_lost_per_prediction&#x27;, return_train_score=True,\n",
       "             scoring={&#x27;accuracy&#x27;: make_scorer(accuracy_score),\n",
       "                      &#x27;avg_dollars_lost_per_prediction&#x27;: make_scorer(average_dollars_scorer_sklearn, greater_is_better=False),\n",
       "                      &#x27;f025_score&#x27;: make_scorer(fbeta_score, beta=0.25),\n",
       "                      &#x27;f05_score&#x27;: make_scorer(fbeta_score, beta=0.5)})</pre></div></div></div><div class=\"sk-parallel\"><div class=\"sk-parallel-item\"><div class=\"sk-item\"><div class=\"sk-label-container\"><div class=\"sk-label sk-toggleable\"><input class=\"sk-toggleable__control sk-hidden--visually\" id=\"sk-estimator-id-2\" type=\"checkbox\" ><label for=\"sk-estimator-id-2\" class=\"sk-toggleable__label sk-toggleable__label-arrow\">estimator: LGBMClassifier</label><div class=\"sk-toggleable__content\"><pre>LGBMClassifier(n_jobs=32, random_state=7742)</pre></div></div></div><div class=\"sk-serial\"><div class=\"sk-item\"><div class=\"sk-estimator sk-toggleable\"><input class=\"sk-toggleable__control sk-hidden--visually\" id=\"sk-estimator-id-3\" type=\"checkbox\" ><label for=\"sk-estimator-id-3\" class=\"sk-toggleable__label sk-toggleable__label-arrow\">LGBMClassifier</label><div class=\"sk-toggleable__content\"><pre>LGBMClassifier(n_jobs=32, random_state=7742)</pre></div></div></div></div></div></div></div></div></div></div>"
      ],
      "text/plain": [
       "GridSearchCV(cv=StratifiedKFold(n_splits=5, random_state=7742, shuffle=True),\n",
       "             error_score='raise',\n",
       "             estimator=LGBMClassifier(n_jobs=32, random_state=7742), n_jobs=32,\n",
       "             param_grid={'bagging_seed': [7742], 'boosting_type': ['gbdt'],\n",
       "                         'colsample_bytree': [0.8],\n",
       "                         'feature_fraction_seed': [7743],\n",
       "                         'importance_type': ['gain'], 'learning_rate': [0.05],\n",
       "                         'max_bin': [63], 'max_delta_...\n",
       "                         'seed': [534401655], 'subsample': [0.7],\n",
       "                         'subsample_freq': [1]},\n",
       "             refit='avg_dollars_lost_per_prediction', return_train_score=True,\n",
       "             scoring={'accuracy': make_scorer(accuracy_score),\n",
       "                      'avg_dollars_lost_per_prediction': make_scorer(average_dollars_scorer_sklearn, greater_is_better=False),\n",
       "                      'f025_score': make_scorer(fbeta_score, beta=0.25),\n",
       "                      'f05_score': make_scorer(fbeta_score, beta=0.5)})"
      ]
     },
     "execution_count": 19,
     "metadata": {},
     "output_type": "execute_result"
    }
   ],
   "source": [
    "%%time\n",
    "\n",
    "MODEL_NAME = \"Best DAI Exactly\"\n",
    "\n",
    "cv_splitter = StratifiedKFold(n_splits=5, \n",
    "                              shuffle=True, \n",
    "                              random_state=7742)\n",
    "\n",
    "gs_dai_exact = GridSearchCV(estimator=LGBMClassifier(n_jobs=32, random_state=7742), \n",
    "                   param_grid=best_param_grid_mono, \n",
    "                   refit=\"avg_dollars_lost_per_prediction\",\n",
    "                   scoring=scorers_dict, \n",
    "                   cv=cv_splitter,\n",
    "                   n_jobs=32, \n",
    "                   error_score=\"raise\", \n",
    "                   return_train_score=True)\n",
    "\n",
    "gs_dai_exact.fit(X=X_train_dai_mono, \n",
    "        y=y_train, \n",
    "        callbacks=[early_stopping(stopping_rounds=EARLY_STOPPING_ROUNDS, \n",
    "                                  first_metric_only=True, \n",
    "                                  verbose=True)], \n",
    "        eval_metric=[average_dollars_scorer_lgbm, \n",
    "                     fpt5_scorer_lgbm, \n",
    "                     \"binary\", \n",
    "                     \"accuracy\"], \n",
    "        eval_set=[(X_val_dai_mono, y_val)])"
   ]
  },
  {
   "cell_type": "code",
   "execution_count": 20,
   "id": "c6876c13-5691-4948-be42-70e466551389",
   "metadata": {},
   "outputs": [
    {
     "data": {
      "text/html": [
       "<div>\n",
       "<style scoped>\n",
       "    .dataframe tbody tr th:only-of-type {\n",
       "        vertical-align: middle;\n",
       "    }\n",
       "\n",
       "    .dataframe tbody tr th {\n",
       "        vertical-align: top;\n",
       "    }\n",
       "\n",
       "    .dataframe thead th {\n",
       "        text-align: right;\n",
       "    }\n",
       "</style>\n",
       "<table border=\"1\" class=\"dataframe\">\n",
       "  <thead>\n",
       "    <tr style=\"text-align: right;\">\n",
       "      <th></th>\n",
       "      <th>Best DAI Exactly</th>\n",
       "    </tr>\n",
       "  </thead>\n",
       "  <tbody>\n",
       "    <tr>\n",
       "      <th>mean_test_f025_score</th>\n",
       "      <td>0.930679</td>\n",
       "    </tr>\n",
       "    <tr>\n",
       "      <th>mean_train_f025_score</th>\n",
       "      <td>0.990459</td>\n",
       "    </tr>\n",
       "    <tr>\n",
       "      <th>mean_test_f025_score</th>\n",
       "      <td>0.930679</td>\n",
       "    </tr>\n",
       "    <tr>\n",
       "      <th>mean_train_f025_score</th>\n",
       "      <td>0.990459</td>\n",
       "    </tr>\n",
       "    <tr>\n",
       "      <th>mean_test_avg_dollars_lost_per_prediction</th>\n",
       "      <td>-3.380781</td>\n",
       "    </tr>\n",
       "    <tr>\n",
       "      <th>mean_train_avg_dollars_lost_per_prediction</th>\n",
       "      <td>-0.486484</td>\n",
       "    </tr>\n",
       "    <tr>\n",
       "      <th>mean_test_accuracy</th>\n",
       "      <td>0.938023</td>\n",
       "    </tr>\n",
       "    <tr>\n",
       "      <th>mean_train_accuracy</th>\n",
       "      <td>0.990363</td>\n",
       "    </tr>\n",
       "  </tbody>\n",
       "</table>\n",
       "</div>"
      ],
      "text/plain": [
       "                                            Best DAI Exactly\n",
       "mean_test_f025_score                                0.930679\n",
       "mean_train_f025_score                               0.990459\n",
       "mean_test_f025_score                                0.930679\n",
       "mean_train_f025_score                               0.990459\n",
       "mean_test_avg_dollars_lost_per_prediction          -3.380781\n",
       "mean_train_avg_dollars_lost_per_prediction         -0.486484\n",
       "mean_test_accuracy                                  0.938023\n",
       "mean_train_accuracy                                 0.990363"
      ]
     },
     "execution_count": 20,
     "metadata": {},
     "output_type": "execute_result"
    }
   ],
   "source": [
    "gs_dai_exact_df = display_cross_validation_scores(gs=gs_dai_exact, model_name=MODEL_NAME)\n",
    "gs_dai_exact_df"
   ]
  },
  {
   "cell_type": "code",
   "execution_count": 21,
   "id": "1d2409a9-9570-4f74-8ffe-61bd0f2bcbe2",
   "metadata": {},
   "outputs": [
    {
     "name": "stdout",
     "output_type": "stream",
     "text": [
      "================= Best DAI Exactly =================\n",
      "Best Iteration: 634\n",
      "accuracy: Train=0.9862578125, Validation=0.937125\n",
      "f025_score: Train=0.9855810555764235, Validation=0.9297011644764533\n",
      "f05_score: Train=0.9846960742103408, Validation=0.9268300415306089\n",
      "avg_dollars_lost_per_prediction: Train=0.72296875, Validation=3.4275\n",
      "====================================================\n"
     ]
    }
   ],
   "source": [
    "dai_train_exact_pred_df, dai_val_exact_pred_df = get_val_performance_after_all_train_refit(gs=gs_dai_exact, \n",
    "                                                                                       X_train=X_train_dai_mono, \n",
    "                                                                                       y_train=y_train, \n",
    "                                                                                       X_val=X_val_dai_mono, \n",
    "                                                                                       y_val=y_val, \n",
    "                                                                                       model_name=MODEL_NAME)"
   ]
  },
  {
   "cell_type": "markdown",
   "id": "11d3ae92-f791-4772-914d-89f50496384c",
   "metadata": {},
   "source": [
    "## Best DAI (Monotone removed)\n",
    "\n",
    "After this point, all models will not used monotone constraints"
   ]
  },
  {
   "cell_type": "code",
   "execution_count": 22,
   "id": "2f4e63dc-3f91-4c7d-ae1c-6d77db6b3752",
   "metadata": {},
   "outputs": [
    {
     "name": "stdout",
     "output_type": "stream",
     "text": [
      "[LightGBM] [Warning] seed is set=534401655, random_state=7742 will be ignored. Current value: seed=534401655\n",
      "Training until validation scores don't improve for 5 rounds\n",
      "Early stopping, best iteration is:\n",
      "[415]\tvalid_0's binary_logloss: 0.132426\tvalid_0's avg_dollars_lost_per_prediction: 2.57125\tvalid_0's f05_score: 0.945452\n",
      "Evaluated only: binary_logloss\n",
      "CPU times: total: 2min 28s\n",
      "Wall time: 1min 16s\n"
     ]
    },
    {
     "data": {
      "text/html": [
       "<style>#sk-container-id-2 {color: black;background-color: white;}#sk-container-id-2 pre{padding: 0;}#sk-container-id-2 div.sk-toggleable {background-color: white;}#sk-container-id-2 label.sk-toggleable__label {cursor: pointer;display: block;width: 100%;margin-bottom: 0;padding: 0.3em;box-sizing: border-box;text-align: center;}#sk-container-id-2 label.sk-toggleable__label-arrow:before {content: \"▸\";float: left;margin-right: 0.25em;color: #696969;}#sk-container-id-2 label.sk-toggleable__label-arrow:hover:before {color: black;}#sk-container-id-2 div.sk-estimator:hover label.sk-toggleable__label-arrow:before {color: black;}#sk-container-id-2 div.sk-toggleable__content {max-height: 0;max-width: 0;overflow: hidden;text-align: left;background-color: #f0f8ff;}#sk-container-id-2 div.sk-toggleable__content pre {margin: 0.2em;color: black;border-radius: 0.25em;background-color: #f0f8ff;}#sk-container-id-2 input.sk-toggleable__control:checked~div.sk-toggleable__content {max-height: 200px;max-width: 100%;overflow: auto;}#sk-container-id-2 input.sk-toggleable__control:checked~label.sk-toggleable__label-arrow:before {content: \"▾\";}#sk-container-id-2 div.sk-estimator input.sk-toggleable__control:checked~label.sk-toggleable__label {background-color: #d4ebff;}#sk-container-id-2 div.sk-label input.sk-toggleable__control:checked~label.sk-toggleable__label {background-color: #d4ebff;}#sk-container-id-2 input.sk-hidden--visually {border: 0;clip: rect(1px 1px 1px 1px);clip: rect(1px, 1px, 1px, 1px);height: 1px;margin: -1px;overflow: hidden;padding: 0;position: absolute;width: 1px;}#sk-container-id-2 div.sk-estimator {font-family: monospace;background-color: #f0f8ff;border: 1px dotted black;border-radius: 0.25em;box-sizing: border-box;margin-bottom: 0.5em;}#sk-container-id-2 div.sk-estimator:hover {background-color: #d4ebff;}#sk-container-id-2 div.sk-parallel-item::after {content: \"\";width: 100%;border-bottom: 1px solid gray;flex-grow: 1;}#sk-container-id-2 div.sk-label:hover label.sk-toggleable__label {background-color: #d4ebff;}#sk-container-id-2 div.sk-serial::before {content: \"\";position: absolute;border-left: 1px solid gray;box-sizing: border-box;top: 0;bottom: 0;left: 50%;z-index: 0;}#sk-container-id-2 div.sk-serial {display: flex;flex-direction: column;align-items: center;background-color: white;padding-right: 0.2em;padding-left: 0.2em;position: relative;}#sk-container-id-2 div.sk-item {position: relative;z-index: 1;}#sk-container-id-2 div.sk-parallel {display: flex;align-items: stretch;justify-content: center;background-color: white;position: relative;}#sk-container-id-2 div.sk-item::before, #sk-container-id-2 div.sk-parallel-item::before {content: \"\";position: absolute;border-left: 1px solid gray;box-sizing: border-box;top: 0;bottom: 0;left: 50%;z-index: -1;}#sk-container-id-2 div.sk-parallel-item {display: flex;flex-direction: column;z-index: 1;position: relative;background-color: white;}#sk-container-id-2 div.sk-parallel-item:first-child::after {align-self: flex-end;width: 50%;}#sk-container-id-2 div.sk-parallel-item:last-child::after {align-self: flex-start;width: 50%;}#sk-container-id-2 div.sk-parallel-item:only-child::after {width: 0;}#sk-container-id-2 div.sk-dashed-wrapped {border: 1px dashed gray;margin: 0 0.4em 0.5em 0.4em;box-sizing: border-box;padding-bottom: 0.4em;background-color: white;}#sk-container-id-2 div.sk-label label {font-family: monospace;font-weight: bold;display: inline-block;line-height: 1.2em;}#sk-container-id-2 div.sk-label-container {text-align: center;}#sk-container-id-2 div.sk-container {/* jupyter's `normalize.less` sets `[hidden] { display: none; }` but bootstrap.min.css set `[hidden] { display: none !important; }` so we also need the `!important` here to be able to override the default hidden behavior on the sphinx rendered scikit-learn.org. See: https://github.com/scikit-learn/scikit-learn/issues/21755 */display: inline-block !important;position: relative;}#sk-container-id-2 div.sk-text-repr-fallback {display: none;}</style><div id=\"sk-container-id-2\" class=\"sk-top-container\"><div class=\"sk-text-repr-fallback\"><pre>GridSearchCV(cv=StratifiedKFold(n_splits=5, random_state=7742, shuffle=True),\n",
       "             error_score=&#x27;raise&#x27;,\n",
       "             estimator=LGBMClassifier(n_jobs=32, random_state=7742), n_jobs=32,\n",
       "             param_grid={&#x27;bagging_seed&#x27;: [7742], &#x27;boosting_type&#x27;: [&#x27;gbdt&#x27;],\n",
       "                         &#x27;colsample_bytree&#x27;: [0.8],\n",
       "                         &#x27;feature_fraction_seed&#x27;: [7743],\n",
       "                         &#x27;importance_type&#x27;: [&#x27;gain&#x27;], &#x27;learning_rate&#x27;: [0.05],\n",
       "                         &#x27;max_bin&#x27;: [63], &#x27;max_delta_...\n",
       "                         &#x27;scale_pos_weight&#x27;: [1.0], &#x27;seed&#x27;: [534401655],\n",
       "                         &#x27;subsample&#x27;: [0.7], &#x27;subsample_freq&#x27;: [1]},\n",
       "             refit=&#x27;avg_dollars_lost_per_prediction&#x27;, return_train_score=True,\n",
       "             scoring={&#x27;accuracy&#x27;: make_scorer(accuracy_score),\n",
       "                      &#x27;avg_dollars_lost_per_prediction&#x27;: make_scorer(average_dollars_scorer_sklearn, greater_is_better=False),\n",
       "                      &#x27;f025_score&#x27;: make_scorer(fbeta_score, beta=0.25),\n",
       "                      &#x27;f05_score&#x27;: make_scorer(fbeta_score, beta=0.5)})</pre><b>In a Jupyter environment, please rerun this cell to show the HTML representation or trust the notebook. <br />On GitHub, the HTML representation is unable to render, please try loading this page with nbviewer.org.</b></div><div class=\"sk-container\" hidden><div class=\"sk-item sk-dashed-wrapped\"><div class=\"sk-label-container\"><div class=\"sk-label sk-toggleable\"><input class=\"sk-toggleable__control sk-hidden--visually\" id=\"sk-estimator-id-4\" type=\"checkbox\" ><label for=\"sk-estimator-id-4\" class=\"sk-toggleable__label sk-toggleable__label-arrow\">GridSearchCV</label><div class=\"sk-toggleable__content\"><pre>GridSearchCV(cv=StratifiedKFold(n_splits=5, random_state=7742, shuffle=True),\n",
       "             error_score=&#x27;raise&#x27;,\n",
       "             estimator=LGBMClassifier(n_jobs=32, random_state=7742), n_jobs=32,\n",
       "             param_grid={&#x27;bagging_seed&#x27;: [7742], &#x27;boosting_type&#x27;: [&#x27;gbdt&#x27;],\n",
       "                         &#x27;colsample_bytree&#x27;: [0.8],\n",
       "                         &#x27;feature_fraction_seed&#x27;: [7743],\n",
       "                         &#x27;importance_type&#x27;: [&#x27;gain&#x27;], &#x27;learning_rate&#x27;: [0.05],\n",
       "                         &#x27;max_bin&#x27;: [63], &#x27;max_delta_...\n",
       "                         &#x27;scale_pos_weight&#x27;: [1.0], &#x27;seed&#x27;: [534401655],\n",
       "                         &#x27;subsample&#x27;: [0.7], &#x27;subsample_freq&#x27;: [1]},\n",
       "             refit=&#x27;avg_dollars_lost_per_prediction&#x27;, return_train_score=True,\n",
       "             scoring={&#x27;accuracy&#x27;: make_scorer(accuracy_score),\n",
       "                      &#x27;avg_dollars_lost_per_prediction&#x27;: make_scorer(average_dollars_scorer_sklearn, greater_is_better=False),\n",
       "                      &#x27;f025_score&#x27;: make_scorer(fbeta_score, beta=0.25),\n",
       "                      &#x27;f05_score&#x27;: make_scorer(fbeta_score, beta=0.5)})</pre></div></div></div><div class=\"sk-parallel\"><div class=\"sk-parallel-item\"><div class=\"sk-item\"><div class=\"sk-label-container\"><div class=\"sk-label sk-toggleable\"><input class=\"sk-toggleable__control sk-hidden--visually\" id=\"sk-estimator-id-5\" type=\"checkbox\" ><label for=\"sk-estimator-id-5\" class=\"sk-toggleable__label sk-toggleable__label-arrow\">estimator: LGBMClassifier</label><div class=\"sk-toggleable__content\"><pre>LGBMClassifier(n_jobs=32, random_state=7742)</pre></div></div></div><div class=\"sk-serial\"><div class=\"sk-item\"><div class=\"sk-estimator sk-toggleable\"><input class=\"sk-toggleable__control sk-hidden--visually\" id=\"sk-estimator-id-6\" type=\"checkbox\" ><label for=\"sk-estimator-id-6\" class=\"sk-toggleable__label sk-toggleable__label-arrow\">LGBMClassifier</label><div class=\"sk-toggleable__content\"><pre>LGBMClassifier(n_jobs=32, random_state=7742)</pre></div></div></div></div></div></div></div></div></div></div>"
      ],
      "text/plain": [
       "GridSearchCV(cv=StratifiedKFold(n_splits=5, random_state=7742, shuffle=True),\n",
       "             error_score='raise',\n",
       "             estimator=LGBMClassifier(n_jobs=32, random_state=7742), n_jobs=32,\n",
       "             param_grid={'bagging_seed': [7742], 'boosting_type': ['gbdt'],\n",
       "                         'colsample_bytree': [0.8],\n",
       "                         'feature_fraction_seed': [7743],\n",
       "                         'importance_type': ['gain'], 'learning_rate': [0.05],\n",
       "                         'max_bin': [63], 'max_delta_...\n",
       "                         'scale_pos_weight': [1.0], 'seed': [534401655],\n",
       "                         'subsample': [0.7], 'subsample_freq': [1]},\n",
       "             refit='avg_dollars_lost_per_prediction', return_train_score=True,\n",
       "             scoring={'accuracy': make_scorer(accuracy_score),\n",
       "                      'avg_dollars_lost_per_prediction': make_scorer(average_dollars_scorer_sklearn, greater_is_better=False),\n",
       "                      'f025_score': make_scorer(fbeta_score, beta=0.25),\n",
       "                      'f05_score': make_scorer(fbeta_score, beta=0.5)})"
      ]
     },
     "execution_count": 22,
     "metadata": {},
     "output_type": "execute_result"
    }
   ],
   "source": [
    "%%time\n",
    "\n",
    "MODEL_NAME = \"Best DAI (DAI params and features)\"\n",
    "\n",
    "cv_splitter = StratifiedKFold(n_splits=5, \n",
    "                              shuffle=True, \n",
    "                              random_state=7742)\n",
    "\n",
    "gs_dai = GridSearchCV(estimator=LGBMClassifier(n_jobs=32, random_state=7742), \n",
    "                   param_grid=best_param_grid, \n",
    "                   refit=\"avg_dollars_lost_per_prediction\",\n",
    "                   scoring=scorers_dict, \n",
    "                   cv=cv_splitter,\n",
    "                   n_jobs=32, \n",
    "                   error_score=\"raise\", \n",
    "                   return_train_score=True)\n",
    "\n",
    "gs_dai.fit(X=X_train_dai, \n",
    "        y=y_train, \n",
    "        callbacks=[early_stopping(stopping_rounds=EARLY_STOPPING_ROUNDS, \n",
    "                                  first_metric_only=True, \n",
    "                                  verbose=True)], \n",
    "        eval_metric=[average_dollars_scorer_lgbm, \n",
    "                     fpt5_scorer_lgbm, \n",
    "                     \"binary\", \n",
    "                     \"accuracy\"], \n",
    "        eval_set=[(X_val_dai, y_val)])"
   ]
  },
  {
   "cell_type": "code",
   "execution_count": 23,
   "id": "380eafdf-fa57-4127-a6c4-97aaf81a267e",
   "metadata": {},
   "outputs": [
    {
     "data": {
      "text/html": [
       "<div>\n",
       "<style scoped>\n",
       "    .dataframe tbody tr th:only-of-type {\n",
       "        vertical-align: middle;\n",
       "    }\n",
       "\n",
       "    .dataframe tbody tr th {\n",
       "        vertical-align: top;\n",
       "    }\n",
       "\n",
       "    .dataframe thead th {\n",
       "        text-align: right;\n",
       "    }\n",
       "</style>\n",
       "<table border=\"1\" class=\"dataframe\">\n",
       "  <thead>\n",
       "    <tr style=\"text-align: right;\">\n",
       "      <th></th>\n",
       "      <th>Best DAI (DAI params and features)</th>\n",
       "    </tr>\n",
       "  </thead>\n",
       "  <tbody>\n",
       "    <tr>\n",
       "      <th>mean_test_f025_score</th>\n",
       "      <td>0.947297</td>\n",
       "    </tr>\n",
       "    <tr>\n",
       "      <th>mean_train_f025_score</th>\n",
       "      <td>0.997257</td>\n",
       "    </tr>\n",
       "    <tr>\n",
       "      <th>mean_test_f025_score</th>\n",
       "      <td>0.947297</td>\n",
       "    </tr>\n",
       "    <tr>\n",
       "      <th>mean_train_f025_score</th>\n",
       "      <td>0.997257</td>\n",
       "    </tr>\n",
       "    <tr>\n",
       "      <th>mean_test_avg_dollars_lost_per_prediction</th>\n",
       "      <td>-2.571250</td>\n",
       "    </tr>\n",
       "    <tr>\n",
       "      <th>mean_train_avg_dollars_lost_per_prediction</th>\n",
       "      <td>-0.135937</td>\n",
       "    </tr>\n",
       "    <tr>\n",
       "      <th>mean_test_accuracy</th>\n",
       "      <td>0.953937</td>\n",
       "    </tr>\n",
       "    <tr>\n",
       "      <th>mean_train_accuracy</th>\n",
       "      <td>0.997531</td>\n",
       "    </tr>\n",
       "  </tbody>\n",
       "</table>\n",
       "</div>"
      ],
      "text/plain": [
       "                                            Best DAI (DAI params and features)\n",
       "mean_test_f025_score                                                  0.947297\n",
       "mean_train_f025_score                                                 0.997257\n",
       "mean_test_f025_score                                                  0.947297\n",
       "mean_train_f025_score                                                 0.997257\n",
       "mean_test_avg_dollars_lost_per_prediction                            -2.571250\n",
       "mean_train_avg_dollars_lost_per_prediction                           -0.135937\n",
       "mean_test_accuracy                                                    0.953937\n",
       "mean_train_accuracy                                                   0.997531"
      ]
     },
     "execution_count": 23,
     "metadata": {},
     "output_type": "execute_result"
    }
   ],
   "source": [
    "gs_dai_df = display_cross_validation_scores(gs=gs_dai, model_name=MODEL_NAME)\n",
    "gs_dai_df"
   ]
  },
  {
   "cell_type": "code",
   "execution_count": 24,
   "id": "c207035b-d384-4070-9967-f40195e79f3b",
   "metadata": {},
   "outputs": [
    {
     "name": "stdout",
     "output_type": "stream",
     "text": [
      "================= Best DAI (DAI params and features) =================\n",
      "Best Iteration: 415\n",
      "accuracy: Train=0.995765625, Validation=0.9531875\n",
      "f025_score: Train=0.9952675383172299, Validation=0.9474549966079012\n",
      "f05_score: Train=0.9950922684712358, Validation=0.9454516790162384\n",
      "avg_dollars_lost_per_prediction: Train=0.2340625, Validation=2.57125\n",
      "======================================================================\n"
     ]
    }
   ],
   "source": [
    "dai_train_pred_df, dai_val_pred_df = get_val_performance_after_all_train_refit(gs=gs_dai, \n",
    "                                                                                       X_train=X_train_dai, \n",
    "                                                                                       y_train=y_train, \n",
    "                                                                                       X_val=X_val_dai, \n",
    "                                                                                       y_val=y_val, \n",
    "                                                                                       model_name=MODEL_NAME)"
   ]
  },
  {
   "cell_type": "markdown",
   "id": "8a9ebae3-2d3c-4c5a-8126-f1f26a63af1d",
   "metadata": {},
   "source": [
    "## Model: Best DAI Hyperparameters, With Imputer"
   ]
  },
  {
   "cell_type": "code",
   "execution_count": 25,
   "id": "a6291123-637d-41f7-a0fe-0658662b6c0c",
   "metadata": {},
   "outputs": [
    {
     "name": "stdout",
     "output_type": "stream",
     "text": [
      "[LightGBM] [Warning] seed is set=534401655, random_state=7742 will be ignored. Current value: seed=534401655\n",
      "Training until validation scores don't improve for 5 rounds\n",
      "Early stopping, best iteration is:\n",
      "[450]\tvalid_0's binary_logloss: 0.132653\tvalid_0's avg_dollars_lost_per_prediction: 2.4725\tvalid_0's f05_score: 0.947468\n",
      "Evaluated only: binary_logloss\n",
      "CPU times: total: 2min 35s\n",
      "Wall time: 1min 18s\n"
     ]
    },
    {
     "data": {
      "text/html": [
       "<style>#sk-container-id-3 {color: black;background-color: white;}#sk-container-id-3 pre{padding: 0;}#sk-container-id-3 div.sk-toggleable {background-color: white;}#sk-container-id-3 label.sk-toggleable__label {cursor: pointer;display: block;width: 100%;margin-bottom: 0;padding: 0.3em;box-sizing: border-box;text-align: center;}#sk-container-id-3 label.sk-toggleable__label-arrow:before {content: \"▸\";float: left;margin-right: 0.25em;color: #696969;}#sk-container-id-3 label.sk-toggleable__label-arrow:hover:before {color: black;}#sk-container-id-3 div.sk-estimator:hover label.sk-toggleable__label-arrow:before {color: black;}#sk-container-id-3 div.sk-toggleable__content {max-height: 0;max-width: 0;overflow: hidden;text-align: left;background-color: #f0f8ff;}#sk-container-id-3 div.sk-toggleable__content pre {margin: 0.2em;color: black;border-radius: 0.25em;background-color: #f0f8ff;}#sk-container-id-3 input.sk-toggleable__control:checked~div.sk-toggleable__content {max-height: 200px;max-width: 100%;overflow: auto;}#sk-container-id-3 input.sk-toggleable__control:checked~label.sk-toggleable__label-arrow:before {content: \"▾\";}#sk-container-id-3 div.sk-estimator input.sk-toggleable__control:checked~label.sk-toggleable__label {background-color: #d4ebff;}#sk-container-id-3 div.sk-label input.sk-toggleable__control:checked~label.sk-toggleable__label {background-color: #d4ebff;}#sk-container-id-3 input.sk-hidden--visually {border: 0;clip: rect(1px 1px 1px 1px);clip: rect(1px, 1px, 1px, 1px);height: 1px;margin: -1px;overflow: hidden;padding: 0;position: absolute;width: 1px;}#sk-container-id-3 div.sk-estimator {font-family: monospace;background-color: #f0f8ff;border: 1px dotted black;border-radius: 0.25em;box-sizing: border-box;margin-bottom: 0.5em;}#sk-container-id-3 div.sk-estimator:hover {background-color: #d4ebff;}#sk-container-id-3 div.sk-parallel-item::after {content: \"\";width: 100%;border-bottom: 1px solid gray;flex-grow: 1;}#sk-container-id-3 div.sk-label:hover label.sk-toggleable__label {background-color: #d4ebff;}#sk-container-id-3 div.sk-serial::before {content: \"\";position: absolute;border-left: 1px solid gray;box-sizing: border-box;top: 0;bottom: 0;left: 50%;z-index: 0;}#sk-container-id-3 div.sk-serial {display: flex;flex-direction: column;align-items: center;background-color: white;padding-right: 0.2em;padding-left: 0.2em;position: relative;}#sk-container-id-3 div.sk-item {position: relative;z-index: 1;}#sk-container-id-3 div.sk-parallel {display: flex;align-items: stretch;justify-content: center;background-color: white;position: relative;}#sk-container-id-3 div.sk-item::before, #sk-container-id-3 div.sk-parallel-item::before {content: \"\";position: absolute;border-left: 1px solid gray;box-sizing: border-box;top: 0;bottom: 0;left: 50%;z-index: -1;}#sk-container-id-3 div.sk-parallel-item {display: flex;flex-direction: column;z-index: 1;position: relative;background-color: white;}#sk-container-id-3 div.sk-parallel-item:first-child::after {align-self: flex-end;width: 50%;}#sk-container-id-3 div.sk-parallel-item:last-child::after {align-self: flex-start;width: 50%;}#sk-container-id-3 div.sk-parallel-item:only-child::after {width: 0;}#sk-container-id-3 div.sk-dashed-wrapped {border: 1px dashed gray;margin: 0 0.4em 0.5em 0.4em;box-sizing: border-box;padding-bottom: 0.4em;background-color: white;}#sk-container-id-3 div.sk-label label {font-family: monospace;font-weight: bold;display: inline-block;line-height: 1.2em;}#sk-container-id-3 div.sk-label-container {text-align: center;}#sk-container-id-3 div.sk-container {/* jupyter's `normalize.less` sets `[hidden] { display: none; }` but bootstrap.min.css set `[hidden] { display: none !important; }` so we also need the `!important` here to be able to override the default hidden behavior on the sphinx rendered scikit-learn.org. See: https://github.com/scikit-learn/scikit-learn/issues/21755 */display: inline-block !important;position: relative;}#sk-container-id-3 div.sk-text-repr-fallback {display: none;}</style><div id=\"sk-container-id-3\" class=\"sk-top-container\"><div class=\"sk-text-repr-fallback\"><pre>GridSearchCV(cv=StratifiedKFold(n_splits=5, random_state=7742, shuffle=True),\n",
       "             error_score=&#x27;raise&#x27;,\n",
       "             estimator=Pipeline(steps=[(&#x27;impute&#x27;, SimpleImputer()),\n",
       "                                       (&#x27;model&#x27;,\n",
       "                                        LGBMClassifier(n_jobs=32,\n",
       "                                                       random_state=7742))]),\n",
       "             n_jobs=32,\n",
       "             param_grid={&#x27;impute__strategy&#x27;: [&#x27;mean&#x27;],\n",
       "                         &#x27;model__bagging_seed&#x27;: [7742],\n",
       "                         &#x27;model__boosting_type&#x27;: [&#x27;gbdt&#x27;],\n",
       "                         &#x27;model__colsample_bytree&#x27;: [0.8],\n",
       "                         &#x27;mo...\n",
       "                         &#x27;model__seed&#x27;: [534401655], &#x27;model__subsample&#x27;: [0.7],\n",
       "                         &#x27;model__subsample_freq&#x27;: [1]},\n",
       "             refit=&#x27;avg_dollars_lost_per_prediction&#x27;, return_train_score=True,\n",
       "             scoring={&#x27;accuracy&#x27;: make_scorer(accuracy_score),\n",
       "                      &#x27;avg_dollars_lost_per_prediction&#x27;: make_scorer(average_dollars_scorer_sklearn, greater_is_better=False),\n",
       "                      &#x27;f025_score&#x27;: make_scorer(fbeta_score, beta=0.25),\n",
       "                      &#x27;f05_score&#x27;: make_scorer(fbeta_score, beta=0.5)})</pre><b>In a Jupyter environment, please rerun this cell to show the HTML representation or trust the notebook. <br />On GitHub, the HTML representation is unable to render, please try loading this page with nbviewer.org.</b></div><div class=\"sk-container\" hidden><div class=\"sk-item sk-dashed-wrapped\"><div class=\"sk-label-container\"><div class=\"sk-label sk-toggleable\"><input class=\"sk-toggleable__control sk-hidden--visually\" id=\"sk-estimator-id-7\" type=\"checkbox\" ><label for=\"sk-estimator-id-7\" class=\"sk-toggleable__label sk-toggleable__label-arrow\">GridSearchCV</label><div class=\"sk-toggleable__content\"><pre>GridSearchCV(cv=StratifiedKFold(n_splits=5, random_state=7742, shuffle=True),\n",
       "             error_score=&#x27;raise&#x27;,\n",
       "             estimator=Pipeline(steps=[(&#x27;impute&#x27;, SimpleImputer()),\n",
       "                                       (&#x27;model&#x27;,\n",
       "                                        LGBMClassifier(n_jobs=32,\n",
       "                                                       random_state=7742))]),\n",
       "             n_jobs=32,\n",
       "             param_grid={&#x27;impute__strategy&#x27;: [&#x27;mean&#x27;],\n",
       "                         &#x27;model__bagging_seed&#x27;: [7742],\n",
       "                         &#x27;model__boosting_type&#x27;: [&#x27;gbdt&#x27;],\n",
       "                         &#x27;model__colsample_bytree&#x27;: [0.8],\n",
       "                         &#x27;mo...\n",
       "                         &#x27;model__seed&#x27;: [534401655], &#x27;model__subsample&#x27;: [0.7],\n",
       "                         &#x27;model__subsample_freq&#x27;: [1]},\n",
       "             refit=&#x27;avg_dollars_lost_per_prediction&#x27;, return_train_score=True,\n",
       "             scoring={&#x27;accuracy&#x27;: make_scorer(accuracy_score),\n",
       "                      &#x27;avg_dollars_lost_per_prediction&#x27;: make_scorer(average_dollars_scorer_sklearn, greater_is_better=False),\n",
       "                      &#x27;f025_score&#x27;: make_scorer(fbeta_score, beta=0.25),\n",
       "                      &#x27;f05_score&#x27;: make_scorer(fbeta_score, beta=0.5)})</pre></div></div></div><div class=\"sk-parallel\"><div class=\"sk-parallel-item\"><div class=\"sk-item\"><div class=\"sk-label-container\"><div class=\"sk-label sk-toggleable\"><input class=\"sk-toggleable__control sk-hidden--visually\" id=\"sk-estimator-id-8\" type=\"checkbox\" ><label for=\"sk-estimator-id-8\" class=\"sk-toggleable__label sk-toggleable__label-arrow\">estimator: Pipeline</label><div class=\"sk-toggleable__content\"><pre>Pipeline(steps=[(&#x27;impute&#x27;, SimpleImputer()),\n",
       "                (&#x27;model&#x27;, LGBMClassifier(n_jobs=32, random_state=7742))])</pre></div></div></div><div class=\"sk-serial\"><div class=\"sk-item\"><div class=\"sk-serial\"><div class=\"sk-item\"><div class=\"sk-estimator sk-toggleable\"><input class=\"sk-toggleable__control sk-hidden--visually\" id=\"sk-estimator-id-9\" type=\"checkbox\" ><label for=\"sk-estimator-id-9\" class=\"sk-toggleable__label sk-toggleable__label-arrow\">SimpleImputer</label><div class=\"sk-toggleable__content\"><pre>SimpleImputer()</pre></div></div></div><div class=\"sk-item\"><div class=\"sk-estimator sk-toggleable\"><input class=\"sk-toggleable__control sk-hidden--visually\" id=\"sk-estimator-id-10\" type=\"checkbox\" ><label for=\"sk-estimator-id-10\" class=\"sk-toggleable__label sk-toggleable__label-arrow\">LGBMClassifier</label><div class=\"sk-toggleable__content\"><pre>LGBMClassifier(n_jobs=32, random_state=7742)</pre></div></div></div></div></div></div></div></div></div></div></div></div>"
      ],
      "text/plain": [
       "GridSearchCV(cv=StratifiedKFold(n_splits=5, random_state=7742, shuffle=True),\n",
       "             error_score='raise',\n",
       "             estimator=Pipeline(steps=[('impute', SimpleImputer()),\n",
       "                                       ('model',\n",
       "                                        LGBMClassifier(n_jobs=32,\n",
       "                                                       random_state=7742))]),\n",
       "             n_jobs=32,\n",
       "             param_grid={'impute__strategy': ['mean'],\n",
       "                         'model__bagging_seed': [7742],\n",
       "                         'model__boosting_type': ['gbdt'],\n",
       "                         'model__colsample_bytree': [0.8],\n",
       "                         'mo...\n",
       "                         'model__seed': [534401655], 'model__subsample': [0.7],\n",
       "                         'model__subsample_freq': [1]},\n",
       "             refit='avg_dollars_lost_per_prediction', return_train_score=True,\n",
       "             scoring={'accuracy': make_scorer(accuracy_score),\n",
       "                      'avg_dollars_lost_per_prediction': make_scorer(average_dollars_scorer_sklearn, greater_is_better=False),\n",
       "                      'f025_score': make_scorer(fbeta_score, beta=0.25),\n",
       "                      'f05_score': make_scorer(fbeta_score, beta=0.5)})"
      ]
     },
     "execution_count": 25,
     "metadata": {},
     "output_type": "execute_result"
    }
   ],
   "source": [
    "%%time\n",
    "\n",
    "MODEL_NAME = \"Best DAI with Imputer\"\n",
    "\n",
    "cv_splitter = StratifiedKFold(n_splits=5, \n",
    "                              shuffle=True, \n",
    "                              random_state=7742)\n",
    "\n",
    "dai_imp_pipe = Pipeline(steps=[(\"impute\", SimpleImputer()), \n",
    "                          ('model', LGBMClassifier(n_jobs=32, random_state=7742))])\n",
    "\n",
    "best_param_grid_imp = {f\"model__{key}\":value for key, value in best_param_grid.items()}\n",
    "best_param_grid_imp['impute__strategy'] = [\"mean\"]\n",
    "\n",
    "gs_dai_imp = GridSearchCV(estimator=dai_imp_pipe, \n",
    "                          param_grid=best_param_grid_imp, \n",
    "                          refit=\"avg_dollars_lost_per_prediction\",\n",
    "                          scoring=scorers_dict, \n",
    "                          cv=cv_splitter,\n",
    "                          n_jobs=32, \n",
    "                          error_score=\"raise\", \n",
    "                          return_train_score=True)\n",
    "\n",
    "gs_dai_imp.fit(X=X_train_dai, \n",
    "               y=y_train, \n",
    "               model__callbacks=[early_stopping(stopping_rounds=EARLY_STOPPING_ROUNDS, \n",
    "                                                first_metric_only=True, \n",
    "                                                verbose=True)], \n",
    "               model__eval_metric=[average_dollars_scorer_lgbm, \n",
    "                                   fpt5_scorer_lgbm, \n",
    "                                   \"binary\", \n",
    "                                   \"accuracy\"], \n",
    "               model__eval_set=[(X_val_dai, y_val)])"
   ]
  },
  {
   "cell_type": "code",
   "execution_count": 26,
   "id": "eba3b1dc-f5e2-4ee7-a5da-403bd4b18028",
   "metadata": {},
   "outputs": [
    {
     "data": {
      "text/html": [
       "<div>\n",
       "<style scoped>\n",
       "    .dataframe tbody tr th:only-of-type {\n",
       "        vertical-align: middle;\n",
       "    }\n",
       "\n",
       "    .dataframe tbody tr th {\n",
       "        vertical-align: top;\n",
       "    }\n",
       "\n",
       "    .dataframe thead th {\n",
       "        text-align: right;\n",
       "    }\n",
       "</style>\n",
       "<table border=\"1\" class=\"dataframe\">\n",
       "  <thead>\n",
       "    <tr style=\"text-align: right;\">\n",
       "      <th></th>\n",
       "      <th>Best DAI with Imputer</th>\n",
       "    </tr>\n",
       "  </thead>\n",
       "  <tbody>\n",
       "    <tr>\n",
       "      <th>mean_test_f025_score</th>\n",
       "      <td>0.947315</td>\n",
       "    </tr>\n",
       "    <tr>\n",
       "      <th>mean_train_f025_score</th>\n",
       "      <td>0.997648</td>\n",
       "    </tr>\n",
       "    <tr>\n",
       "      <th>mean_test_f025_score</th>\n",
       "      <td>0.947315</td>\n",
       "    </tr>\n",
       "    <tr>\n",
       "      <th>mean_train_f025_score</th>\n",
       "      <td>0.997648</td>\n",
       "    </tr>\n",
       "    <tr>\n",
       "      <th>mean_test_avg_dollars_lost_per_prediction</th>\n",
       "      <td>-2.571406</td>\n",
       "    </tr>\n",
       "    <tr>\n",
       "      <th>mean_train_avg_dollars_lost_per_prediction</th>\n",
       "      <td>-0.117813</td>\n",
       "    </tr>\n",
       "    <tr>\n",
       "      <th>mean_test_accuracy</th>\n",
       "      <td>0.953836</td>\n",
       "    </tr>\n",
       "    <tr>\n",
       "      <th>mean_train_accuracy</th>\n",
       "      <td>0.997797</td>\n",
       "    </tr>\n",
       "  </tbody>\n",
       "</table>\n",
       "</div>"
      ],
      "text/plain": [
       "                                            Best DAI with Imputer\n",
       "mean_test_f025_score                                     0.947315\n",
       "mean_train_f025_score                                    0.997648\n",
       "mean_test_f025_score                                     0.947315\n",
       "mean_train_f025_score                                    0.997648\n",
       "mean_test_avg_dollars_lost_per_prediction               -2.571406\n",
       "mean_train_avg_dollars_lost_per_prediction              -0.117813\n",
       "mean_test_accuracy                                       0.953836\n",
       "mean_train_accuracy                                      0.997797"
      ]
     },
     "execution_count": 26,
     "metadata": {},
     "output_type": "execute_result"
    }
   ],
   "source": [
    "gs_dai_imp_df = display_cross_validation_scores(gs=gs_dai_imp, model_name=MODEL_NAME)\n",
    "gs_dai_imp_df"
   ]
  },
  {
   "cell_type": "code",
   "execution_count": 27,
   "id": "0649d00e-b9a4-4f07-abfb-d3715819d14f",
   "metadata": {},
   "outputs": [
    {
     "name": "stdout",
     "output_type": "stream",
     "text": [
      "================= Best DAI with Imputer =================\n",
      "Best Iteration: 450\n",
      "accuracy: Train=0.9978046875, Validation=0.954625\n",
      "f025_score: Train=0.9976147083433627, Validation=0.9495828799419659\n",
      "f05_score: Train=0.9975022016475338, Validation=0.9474680548982489\n",
      "avg_dollars_lost_per_prediction: Train=0.11890625, Validation=2.4725\n",
      "=========================================================\n"
     ]
    }
   ],
   "source": [
    "dai_imp_train_pred_df, dai_imp_val_pred_df = get_val_performance_after_all_train_refit(gs=gs_dai_imp, \n",
    "                                                                                       X_train=X_train_dai, \n",
    "                                                                                       y_train=y_train, \n",
    "                                                                                       X_val=X_val_dai, \n",
    "                                                                                       y_val=y_val, \n",
    "                                                                                       model_name=MODEL_NAME)"
   ]
  },
  {
   "cell_type": "markdown",
   "id": "d8823a16-9244-4ccc-a811-f475d2d40c59",
   "metadata": {},
   "source": [
    "## Model: LightGBM Default Hyperparams, Features from DAI"
   ]
  },
  {
   "cell_type": "code",
   "execution_count": 28,
   "id": "fa2afa7d-536c-4f3d-94ab-fe4f86601c8e",
   "metadata": {},
   "outputs": [
    {
     "name": "stdout",
     "output_type": "stream",
     "text": [
      "Training until validation scores don't improve for 5 rounds\n",
      "Did not meet early stopping. Best iteration is:\n",
      "[100]\tvalid_0's binary_logloss: 0.247955\tvalid_0's avg_dollars_lost_per_prediction: 4.88375\tvalid_0's f05_score: 0.894011\n",
      "Evaluated only: binary_logloss\n",
      "CPU times: total: 16.6 s\n",
      "Wall time: 9.3 s\n"
     ]
    },
    {
     "data": {
      "text/html": [
       "<style>#sk-container-id-4 {color: black;background-color: white;}#sk-container-id-4 pre{padding: 0;}#sk-container-id-4 div.sk-toggleable {background-color: white;}#sk-container-id-4 label.sk-toggleable__label {cursor: pointer;display: block;width: 100%;margin-bottom: 0;padding: 0.3em;box-sizing: border-box;text-align: center;}#sk-container-id-4 label.sk-toggleable__label-arrow:before {content: \"▸\";float: left;margin-right: 0.25em;color: #696969;}#sk-container-id-4 label.sk-toggleable__label-arrow:hover:before {color: black;}#sk-container-id-4 div.sk-estimator:hover label.sk-toggleable__label-arrow:before {color: black;}#sk-container-id-4 div.sk-toggleable__content {max-height: 0;max-width: 0;overflow: hidden;text-align: left;background-color: #f0f8ff;}#sk-container-id-4 div.sk-toggleable__content pre {margin: 0.2em;color: black;border-radius: 0.25em;background-color: #f0f8ff;}#sk-container-id-4 input.sk-toggleable__control:checked~div.sk-toggleable__content {max-height: 200px;max-width: 100%;overflow: auto;}#sk-container-id-4 input.sk-toggleable__control:checked~label.sk-toggleable__label-arrow:before {content: \"▾\";}#sk-container-id-4 div.sk-estimator input.sk-toggleable__control:checked~label.sk-toggleable__label {background-color: #d4ebff;}#sk-container-id-4 div.sk-label input.sk-toggleable__control:checked~label.sk-toggleable__label {background-color: #d4ebff;}#sk-container-id-4 input.sk-hidden--visually {border: 0;clip: rect(1px 1px 1px 1px);clip: rect(1px, 1px, 1px, 1px);height: 1px;margin: -1px;overflow: hidden;padding: 0;position: absolute;width: 1px;}#sk-container-id-4 div.sk-estimator {font-family: monospace;background-color: #f0f8ff;border: 1px dotted black;border-radius: 0.25em;box-sizing: border-box;margin-bottom: 0.5em;}#sk-container-id-4 div.sk-estimator:hover {background-color: #d4ebff;}#sk-container-id-4 div.sk-parallel-item::after {content: \"\";width: 100%;border-bottom: 1px solid gray;flex-grow: 1;}#sk-container-id-4 div.sk-label:hover label.sk-toggleable__label {background-color: #d4ebff;}#sk-container-id-4 div.sk-serial::before {content: \"\";position: absolute;border-left: 1px solid gray;box-sizing: border-box;top: 0;bottom: 0;left: 50%;z-index: 0;}#sk-container-id-4 div.sk-serial {display: flex;flex-direction: column;align-items: center;background-color: white;padding-right: 0.2em;padding-left: 0.2em;position: relative;}#sk-container-id-4 div.sk-item {position: relative;z-index: 1;}#sk-container-id-4 div.sk-parallel {display: flex;align-items: stretch;justify-content: center;background-color: white;position: relative;}#sk-container-id-4 div.sk-item::before, #sk-container-id-4 div.sk-parallel-item::before {content: \"\";position: absolute;border-left: 1px solid gray;box-sizing: border-box;top: 0;bottom: 0;left: 50%;z-index: -1;}#sk-container-id-4 div.sk-parallel-item {display: flex;flex-direction: column;z-index: 1;position: relative;background-color: white;}#sk-container-id-4 div.sk-parallel-item:first-child::after {align-self: flex-end;width: 50%;}#sk-container-id-4 div.sk-parallel-item:last-child::after {align-self: flex-start;width: 50%;}#sk-container-id-4 div.sk-parallel-item:only-child::after {width: 0;}#sk-container-id-4 div.sk-dashed-wrapped {border: 1px dashed gray;margin: 0 0.4em 0.5em 0.4em;box-sizing: border-box;padding-bottom: 0.4em;background-color: white;}#sk-container-id-4 div.sk-label label {font-family: monospace;font-weight: bold;display: inline-block;line-height: 1.2em;}#sk-container-id-4 div.sk-label-container {text-align: center;}#sk-container-id-4 div.sk-container {/* jupyter's `normalize.less` sets `[hidden] { display: none; }` but bootstrap.min.css set `[hidden] { display: none !important; }` so we also need the `!important` here to be able to override the default hidden behavior on the sphinx rendered scikit-learn.org. See: https://github.com/scikit-learn/scikit-learn/issues/21755 */display: inline-block !important;position: relative;}#sk-container-id-4 div.sk-text-repr-fallback {display: none;}</style><div id=\"sk-container-id-4\" class=\"sk-top-container\"><div class=\"sk-text-repr-fallback\"><pre>GridSearchCV(cv=StratifiedKFold(n_splits=5, random_state=7742, shuffle=True),\n",
       "             error_score=&#x27;raise&#x27;,\n",
       "             estimator=LGBMClassifier(n_jobs=32, random_state=7742), n_jobs=32,\n",
       "             param_grid={}, refit=&#x27;avg_dollars_lost_per_prediction&#x27;,\n",
       "             return_train_score=True,\n",
       "             scoring={&#x27;accuracy&#x27;: make_scorer(accuracy_score),\n",
       "                      &#x27;avg_dollars_lost_per_prediction&#x27;: make_scorer(average_dollars_scorer_sklearn, greater_is_better=False),\n",
       "                      &#x27;f025_score&#x27;: make_scorer(fbeta_score, beta=0.25),\n",
       "                      &#x27;f05_score&#x27;: make_scorer(fbeta_score, beta=0.5)})</pre><b>In a Jupyter environment, please rerun this cell to show the HTML representation or trust the notebook. <br />On GitHub, the HTML representation is unable to render, please try loading this page with nbviewer.org.</b></div><div class=\"sk-container\" hidden><div class=\"sk-item sk-dashed-wrapped\"><div class=\"sk-label-container\"><div class=\"sk-label sk-toggleable\"><input class=\"sk-toggleable__control sk-hidden--visually\" id=\"sk-estimator-id-11\" type=\"checkbox\" ><label for=\"sk-estimator-id-11\" class=\"sk-toggleable__label sk-toggleable__label-arrow\">GridSearchCV</label><div class=\"sk-toggleable__content\"><pre>GridSearchCV(cv=StratifiedKFold(n_splits=5, random_state=7742, shuffle=True),\n",
       "             error_score=&#x27;raise&#x27;,\n",
       "             estimator=LGBMClassifier(n_jobs=32, random_state=7742), n_jobs=32,\n",
       "             param_grid={}, refit=&#x27;avg_dollars_lost_per_prediction&#x27;,\n",
       "             return_train_score=True,\n",
       "             scoring={&#x27;accuracy&#x27;: make_scorer(accuracy_score),\n",
       "                      &#x27;avg_dollars_lost_per_prediction&#x27;: make_scorer(average_dollars_scorer_sklearn, greater_is_better=False),\n",
       "                      &#x27;f025_score&#x27;: make_scorer(fbeta_score, beta=0.25),\n",
       "                      &#x27;f05_score&#x27;: make_scorer(fbeta_score, beta=0.5)})</pre></div></div></div><div class=\"sk-parallel\"><div class=\"sk-parallel-item\"><div class=\"sk-item\"><div class=\"sk-label-container\"><div class=\"sk-label sk-toggleable\"><input class=\"sk-toggleable__control sk-hidden--visually\" id=\"sk-estimator-id-12\" type=\"checkbox\" ><label for=\"sk-estimator-id-12\" class=\"sk-toggleable__label sk-toggleable__label-arrow\">estimator: LGBMClassifier</label><div class=\"sk-toggleable__content\"><pre>LGBMClassifier(n_jobs=32, random_state=7742)</pre></div></div></div><div class=\"sk-serial\"><div class=\"sk-item\"><div class=\"sk-estimator sk-toggleable\"><input class=\"sk-toggleable__control sk-hidden--visually\" id=\"sk-estimator-id-13\" type=\"checkbox\" ><label for=\"sk-estimator-id-13\" class=\"sk-toggleable__label sk-toggleable__label-arrow\">LGBMClassifier</label><div class=\"sk-toggleable__content\"><pre>LGBMClassifier(n_jobs=32, random_state=7742)</pre></div></div></div></div></div></div></div></div></div></div>"
      ],
      "text/plain": [
       "GridSearchCV(cv=StratifiedKFold(n_splits=5, random_state=7742, shuffle=True),\n",
       "             error_score='raise',\n",
       "             estimator=LGBMClassifier(n_jobs=32, random_state=7742), n_jobs=32,\n",
       "             param_grid={}, refit='avg_dollars_lost_per_prediction',\n",
       "             return_train_score=True,\n",
       "             scoring={'accuracy': make_scorer(accuracy_score),\n",
       "                      'avg_dollars_lost_per_prediction': make_scorer(average_dollars_scorer_sklearn, greater_is_better=False),\n",
       "                      'f025_score': make_scorer(fbeta_score, beta=0.25),\n",
       "                      'f05_score': make_scorer(fbeta_score, beta=0.5)})"
      ]
     },
     "execution_count": 28,
     "metadata": {},
     "output_type": "execute_result"
    }
   ],
   "source": [
    "%%time\n",
    "\n",
    "MODEL_NAME = \"LGBM Default Params, DAI Features\"\n",
    "\n",
    "cv_splitter = StratifiedKFold(n_splits=5, \n",
    "                              shuffle=True, \n",
    "                              random_state=7742)\n",
    "\n",
    "gs_def_dai = GridSearchCV(estimator=LGBMClassifier(n_jobs=32, random_state=7742), \n",
    "                   param_grid={}, \n",
    "                   refit=\"avg_dollars_lost_per_prediction\",\n",
    "                   scoring=scorers_dict, \n",
    "                   cv=cv_splitter,\n",
    "                   n_jobs=32, \n",
    "                   error_score=\"raise\", \n",
    "                   return_train_score=True)\n",
    "\n",
    "gs_def_dai.fit(X=X_train_dai, \n",
    "        y=y_train, \n",
    "        callbacks=[early_stopping(stopping_rounds=EARLY_STOPPING_ROUNDS, \n",
    "                                  first_metric_only=True, \n",
    "                                  verbose=True)], \n",
    "        eval_metric=[average_dollars_scorer_lgbm, \n",
    "                     fpt5_scorer_lgbm, \n",
    "                     \"binary\", \n",
    "                     \"accuracy\"], \n",
    "        eval_set=[(X_val_dai, y_val)])"
   ]
  },
  {
   "cell_type": "code",
   "execution_count": 29,
   "id": "4c3484f0-fa60-40b4-b8ae-f95141dfeda2",
   "metadata": {},
   "outputs": [
    {
     "data": {
      "text/html": [
       "<div>\n",
       "<style scoped>\n",
       "    .dataframe tbody tr th:only-of-type {\n",
       "        vertical-align: middle;\n",
       "    }\n",
       "\n",
       "    .dataframe tbody tr th {\n",
       "        vertical-align: top;\n",
       "    }\n",
       "\n",
       "    .dataframe thead th {\n",
       "        text-align: right;\n",
       "    }\n",
       "</style>\n",
       "<table border=\"1\" class=\"dataframe\">\n",
       "  <thead>\n",
       "    <tr style=\"text-align: right;\">\n",
       "      <th></th>\n",
       "      <th>LGBM Default Params, DAI Features</th>\n",
       "    </tr>\n",
       "  </thead>\n",
       "  <tbody>\n",
       "    <tr>\n",
       "      <th>mean_test_f025_score</th>\n",
       "      <td>0.900270</td>\n",
       "    </tr>\n",
       "    <tr>\n",
       "      <th>mean_train_f025_score</th>\n",
       "      <td>0.911802</td>\n",
       "    </tr>\n",
       "    <tr>\n",
       "      <th>mean_test_f025_score</th>\n",
       "      <td>0.900270</td>\n",
       "    </tr>\n",
       "    <tr>\n",
       "      <th>mean_train_f025_score</th>\n",
       "      <td>0.911802</td>\n",
       "    </tr>\n",
       "    <tr>\n",
       "      <th>mean_test_avg_dollars_lost_per_prediction</th>\n",
       "      <td>-4.828750</td>\n",
       "    </tr>\n",
       "    <tr>\n",
       "      <th>mean_train_avg_dollars_lost_per_prediction</th>\n",
       "      <td>-4.291758</td>\n",
       "    </tr>\n",
       "    <tr>\n",
       "      <th>mean_test_accuracy</th>\n",
       "      <td>0.908844</td>\n",
       "    </tr>\n",
       "    <tr>\n",
       "      <th>mean_train_accuracy</th>\n",
       "      <td>0.918373</td>\n",
       "    </tr>\n",
       "  </tbody>\n",
       "</table>\n",
       "</div>"
      ],
      "text/plain": [
       "                                            LGBM Default Params, DAI Features\n",
       "mean_test_f025_score                                                 0.900270\n",
       "mean_train_f025_score                                                0.911802\n",
       "mean_test_f025_score                                                 0.900270\n",
       "mean_train_f025_score                                                0.911802\n",
       "mean_test_avg_dollars_lost_per_prediction                           -4.828750\n",
       "mean_train_avg_dollars_lost_per_prediction                          -4.291758\n",
       "mean_test_accuracy                                                   0.908844\n",
       "mean_train_accuracy                                                  0.918373"
      ]
     },
     "execution_count": 29,
     "metadata": {},
     "output_type": "execute_result"
    }
   ],
   "source": [
    "gs_def_dai_df = display_cross_validation_scores(gs=gs_def_dai, model_name=MODEL_NAME)\n",
    "gs_def_dai_df"
   ]
  },
  {
   "cell_type": "code",
   "execution_count": 30,
   "id": "41305f94-249b-44aa-8db4-8121dbb6bb98",
   "metadata": {},
   "outputs": [
    {
     "name": "stdout",
     "output_type": "stream",
     "text": [
      "================= LGBM Default Params, DAI Features =================\n",
      "Best Iteration: 100\n",
      "accuracy: Train=0.9186875, Validation=0.9083125\n",
      "f025_score: Train=0.9114215826860678, Validation=0.8990501183786405\n",
      "f05_score: Train=0.9067022086824067, Validation=0.8940109943099623\n",
      "avg_dollars_lost_per_prediction: Train=4.306875, Validation=4.88375\n",
      "=====================================================================\n"
     ]
    }
   ],
   "source": [
    "def_dai_train_pred_df, def_dai_val_pred_df = get_val_performance_after_all_train_refit(gs=gs_def_dai, \n",
    "                                                                                       X_train=X_train_dai, \n",
    "                                                                                       y_train=y_train, \n",
    "                                                                                       X_val=X_val_dai, \n",
    "                                                                                       y_val=y_val, \n",
    "                                                                                       model_name=MODEL_NAME)"
   ]
  },
  {
   "cell_type": "markdown",
   "id": "5549d3b4-13cd-4371-ad15-dcabc1e0c207",
   "metadata": {},
   "source": [
    "## Model: LightGBM Default Hyperparams, Features from DAI, With Imputer"
   ]
  },
  {
   "cell_type": "code",
   "execution_count": 31,
   "id": "c72a38c1-673d-4964-a575-f2e1c0b97a1b",
   "metadata": {},
   "outputs": [
    {
     "name": "stdout",
     "output_type": "stream",
     "text": [
      "Training until validation scores don't improve for 5 rounds\n",
      "Did not meet early stopping. Best iteration is:\n",
      "[100]\tvalid_0's binary_logloss: 0.247983\tvalid_0's avg_dollars_lost_per_prediction: 4.70375\tvalid_0's f05_score: 0.8972\n",
      "Evaluated only: binary_logloss\n",
      "CPU times: total: 15.6 s\n",
      "Wall time: 9.26 s\n"
     ]
    },
    {
     "data": {
      "text/html": [
       "<style>#sk-container-id-5 {color: black;background-color: white;}#sk-container-id-5 pre{padding: 0;}#sk-container-id-5 div.sk-toggleable {background-color: white;}#sk-container-id-5 label.sk-toggleable__label {cursor: pointer;display: block;width: 100%;margin-bottom: 0;padding: 0.3em;box-sizing: border-box;text-align: center;}#sk-container-id-5 label.sk-toggleable__label-arrow:before {content: \"▸\";float: left;margin-right: 0.25em;color: #696969;}#sk-container-id-5 label.sk-toggleable__label-arrow:hover:before {color: black;}#sk-container-id-5 div.sk-estimator:hover label.sk-toggleable__label-arrow:before {color: black;}#sk-container-id-5 div.sk-toggleable__content {max-height: 0;max-width: 0;overflow: hidden;text-align: left;background-color: #f0f8ff;}#sk-container-id-5 div.sk-toggleable__content pre {margin: 0.2em;color: black;border-radius: 0.25em;background-color: #f0f8ff;}#sk-container-id-5 input.sk-toggleable__control:checked~div.sk-toggleable__content {max-height: 200px;max-width: 100%;overflow: auto;}#sk-container-id-5 input.sk-toggleable__control:checked~label.sk-toggleable__label-arrow:before {content: \"▾\";}#sk-container-id-5 div.sk-estimator input.sk-toggleable__control:checked~label.sk-toggleable__label {background-color: #d4ebff;}#sk-container-id-5 div.sk-label input.sk-toggleable__control:checked~label.sk-toggleable__label {background-color: #d4ebff;}#sk-container-id-5 input.sk-hidden--visually {border: 0;clip: rect(1px 1px 1px 1px);clip: rect(1px, 1px, 1px, 1px);height: 1px;margin: -1px;overflow: hidden;padding: 0;position: absolute;width: 1px;}#sk-container-id-5 div.sk-estimator {font-family: monospace;background-color: #f0f8ff;border: 1px dotted black;border-radius: 0.25em;box-sizing: border-box;margin-bottom: 0.5em;}#sk-container-id-5 div.sk-estimator:hover {background-color: #d4ebff;}#sk-container-id-5 div.sk-parallel-item::after {content: \"\";width: 100%;border-bottom: 1px solid gray;flex-grow: 1;}#sk-container-id-5 div.sk-label:hover label.sk-toggleable__label {background-color: #d4ebff;}#sk-container-id-5 div.sk-serial::before {content: \"\";position: absolute;border-left: 1px solid gray;box-sizing: border-box;top: 0;bottom: 0;left: 50%;z-index: 0;}#sk-container-id-5 div.sk-serial {display: flex;flex-direction: column;align-items: center;background-color: white;padding-right: 0.2em;padding-left: 0.2em;position: relative;}#sk-container-id-5 div.sk-item {position: relative;z-index: 1;}#sk-container-id-5 div.sk-parallel {display: flex;align-items: stretch;justify-content: center;background-color: white;position: relative;}#sk-container-id-5 div.sk-item::before, #sk-container-id-5 div.sk-parallel-item::before {content: \"\";position: absolute;border-left: 1px solid gray;box-sizing: border-box;top: 0;bottom: 0;left: 50%;z-index: -1;}#sk-container-id-5 div.sk-parallel-item {display: flex;flex-direction: column;z-index: 1;position: relative;background-color: white;}#sk-container-id-5 div.sk-parallel-item:first-child::after {align-self: flex-end;width: 50%;}#sk-container-id-5 div.sk-parallel-item:last-child::after {align-self: flex-start;width: 50%;}#sk-container-id-5 div.sk-parallel-item:only-child::after {width: 0;}#sk-container-id-5 div.sk-dashed-wrapped {border: 1px dashed gray;margin: 0 0.4em 0.5em 0.4em;box-sizing: border-box;padding-bottom: 0.4em;background-color: white;}#sk-container-id-5 div.sk-label label {font-family: monospace;font-weight: bold;display: inline-block;line-height: 1.2em;}#sk-container-id-5 div.sk-label-container {text-align: center;}#sk-container-id-5 div.sk-container {/* jupyter's `normalize.less` sets `[hidden] { display: none; }` but bootstrap.min.css set `[hidden] { display: none !important; }` so we also need the `!important` here to be able to override the default hidden behavior on the sphinx rendered scikit-learn.org. See: https://github.com/scikit-learn/scikit-learn/issues/21755 */display: inline-block !important;position: relative;}#sk-container-id-5 div.sk-text-repr-fallback {display: none;}</style><div id=\"sk-container-id-5\" class=\"sk-top-container\"><div class=\"sk-text-repr-fallback\"><pre>GridSearchCV(cv=StratifiedKFold(n_splits=5, random_state=7742, shuffle=True),\n",
       "             error_score=&#x27;raise&#x27;,\n",
       "             estimator=Pipeline(steps=[(&#x27;impute&#x27;, SimpleImputer()),\n",
       "                                       (&#x27;model&#x27;,\n",
       "                                        LGBMClassifier(n_jobs=32,\n",
       "                                                       random_state=7742))]),\n",
       "             n_jobs=32, param_grid={&#x27;impute__strategy&#x27;: [&#x27;mean&#x27;]},\n",
       "             refit=&#x27;avg_dollars_lost_per_prediction&#x27;, return_train_score=True,\n",
       "             scoring={&#x27;accuracy&#x27;: make_scorer(accuracy_score),\n",
       "                      &#x27;avg_dollars_lost_per_prediction&#x27;: make_scorer(average_dollars_scorer_sklearn, greater_is_better=False),\n",
       "                      &#x27;f025_score&#x27;: make_scorer(fbeta_score, beta=0.25),\n",
       "                      &#x27;f05_score&#x27;: make_scorer(fbeta_score, beta=0.5)})</pre><b>In a Jupyter environment, please rerun this cell to show the HTML representation or trust the notebook. <br />On GitHub, the HTML representation is unable to render, please try loading this page with nbviewer.org.</b></div><div class=\"sk-container\" hidden><div class=\"sk-item sk-dashed-wrapped\"><div class=\"sk-label-container\"><div class=\"sk-label sk-toggleable\"><input class=\"sk-toggleable__control sk-hidden--visually\" id=\"sk-estimator-id-14\" type=\"checkbox\" ><label for=\"sk-estimator-id-14\" class=\"sk-toggleable__label sk-toggleable__label-arrow\">GridSearchCV</label><div class=\"sk-toggleable__content\"><pre>GridSearchCV(cv=StratifiedKFold(n_splits=5, random_state=7742, shuffle=True),\n",
       "             error_score=&#x27;raise&#x27;,\n",
       "             estimator=Pipeline(steps=[(&#x27;impute&#x27;, SimpleImputer()),\n",
       "                                       (&#x27;model&#x27;,\n",
       "                                        LGBMClassifier(n_jobs=32,\n",
       "                                                       random_state=7742))]),\n",
       "             n_jobs=32, param_grid={&#x27;impute__strategy&#x27;: [&#x27;mean&#x27;]},\n",
       "             refit=&#x27;avg_dollars_lost_per_prediction&#x27;, return_train_score=True,\n",
       "             scoring={&#x27;accuracy&#x27;: make_scorer(accuracy_score),\n",
       "                      &#x27;avg_dollars_lost_per_prediction&#x27;: make_scorer(average_dollars_scorer_sklearn, greater_is_better=False),\n",
       "                      &#x27;f025_score&#x27;: make_scorer(fbeta_score, beta=0.25),\n",
       "                      &#x27;f05_score&#x27;: make_scorer(fbeta_score, beta=0.5)})</pre></div></div></div><div class=\"sk-parallel\"><div class=\"sk-parallel-item\"><div class=\"sk-item\"><div class=\"sk-label-container\"><div class=\"sk-label sk-toggleable\"><input class=\"sk-toggleable__control sk-hidden--visually\" id=\"sk-estimator-id-15\" type=\"checkbox\" ><label for=\"sk-estimator-id-15\" class=\"sk-toggleable__label sk-toggleable__label-arrow\">estimator: Pipeline</label><div class=\"sk-toggleable__content\"><pre>Pipeline(steps=[(&#x27;impute&#x27;, SimpleImputer()),\n",
       "                (&#x27;model&#x27;, LGBMClassifier(n_jobs=32, random_state=7742))])</pre></div></div></div><div class=\"sk-serial\"><div class=\"sk-item\"><div class=\"sk-serial\"><div class=\"sk-item\"><div class=\"sk-estimator sk-toggleable\"><input class=\"sk-toggleable__control sk-hidden--visually\" id=\"sk-estimator-id-16\" type=\"checkbox\" ><label for=\"sk-estimator-id-16\" class=\"sk-toggleable__label sk-toggleable__label-arrow\">SimpleImputer</label><div class=\"sk-toggleable__content\"><pre>SimpleImputer()</pre></div></div></div><div class=\"sk-item\"><div class=\"sk-estimator sk-toggleable\"><input class=\"sk-toggleable__control sk-hidden--visually\" id=\"sk-estimator-id-17\" type=\"checkbox\" ><label for=\"sk-estimator-id-17\" class=\"sk-toggleable__label sk-toggleable__label-arrow\">LGBMClassifier</label><div class=\"sk-toggleable__content\"><pre>LGBMClassifier(n_jobs=32, random_state=7742)</pre></div></div></div></div></div></div></div></div></div></div></div></div>"
      ],
      "text/plain": [
       "GridSearchCV(cv=StratifiedKFold(n_splits=5, random_state=7742, shuffle=True),\n",
       "             error_score='raise',\n",
       "             estimator=Pipeline(steps=[('impute', SimpleImputer()),\n",
       "                                       ('model',\n",
       "                                        LGBMClassifier(n_jobs=32,\n",
       "                                                       random_state=7742))]),\n",
       "             n_jobs=32, param_grid={'impute__strategy': ['mean']},\n",
       "             refit='avg_dollars_lost_per_prediction', return_train_score=True,\n",
       "             scoring={'accuracy': make_scorer(accuracy_score),\n",
       "                      'avg_dollars_lost_per_prediction': make_scorer(average_dollars_scorer_sklearn, greater_is_better=False),\n",
       "                      'f025_score': make_scorer(fbeta_score, beta=0.25),\n",
       "                      'f05_score': make_scorer(fbeta_score, beta=0.5)})"
      ]
     },
     "execution_count": 31,
     "metadata": {},
     "output_type": "execute_result"
    }
   ],
   "source": [
    "%%time\n",
    "\n",
    "MODEL_NAME = \"LGBM Default Params, DAI Features, Imputer\"\n",
    "\n",
    "cv_splitter = StratifiedKFold(n_splits=5, \n",
    "                              shuffle=True, \n",
    "                              random_state=7742)\n",
    "\n",
    "dai_imp_pipe = Pipeline(steps=[(\"impute\", SimpleImputer()), \n",
    "                          ('model', LGBMClassifier(n_jobs=32, random_state=7742))])\n",
    "\n",
    "gs_def_dai_imp = GridSearchCV(estimator=dai_imp_pipe, \n",
    "                   param_grid={\"impute__strategy\":[\"mean\"]}, \n",
    "                   refit=\"avg_dollars_lost_per_prediction\",\n",
    "                   scoring=scorers_dict, \n",
    "                   cv=cv_splitter,\n",
    "                   n_jobs=32, \n",
    "                   error_score=\"raise\", \n",
    "                   return_train_score=True)\n",
    "\n",
    "gs_def_dai_imp.fit(X=X_train_dai, \n",
    "        y=y_train, \n",
    "        model__callbacks=[early_stopping(stopping_rounds=EARLY_STOPPING_ROUNDS, \n",
    "                                  first_metric_only=True, \n",
    "                                  verbose=True)], \n",
    "        model__eval_metric=[average_dollars_scorer_lgbm, \n",
    "                     fpt5_scorer_lgbm, \n",
    "                     \"binary\", \n",
    "                     \"accuracy\"], \n",
    "        model__eval_set=[(X_val_dai, y_val)])"
   ]
  },
  {
   "cell_type": "code",
   "execution_count": 32,
   "id": "cafbb18a-4b74-4315-9dc6-5c63b13f7db3",
   "metadata": {},
   "outputs": [
    {
     "data": {
      "text/html": [
       "<div>\n",
       "<style scoped>\n",
       "    .dataframe tbody tr th:only-of-type {\n",
       "        vertical-align: middle;\n",
       "    }\n",
       "\n",
       "    .dataframe tbody tr th {\n",
       "        vertical-align: top;\n",
       "    }\n",
       "\n",
       "    .dataframe thead th {\n",
       "        text-align: right;\n",
       "    }\n",
       "</style>\n",
       "<table border=\"1\" class=\"dataframe\">\n",
       "  <thead>\n",
       "    <tr style=\"text-align: right;\">\n",
       "      <th></th>\n",
       "      <th>LGBM Default Params, DAI Features, Imputer</th>\n",
       "    </tr>\n",
       "  </thead>\n",
       "  <tbody>\n",
       "    <tr>\n",
       "      <th>mean_test_f025_score</th>\n",
       "      <td>0.901498</td>\n",
       "    </tr>\n",
       "    <tr>\n",
       "      <th>mean_train_f025_score</th>\n",
       "      <td>0.913827</td>\n",
       "    </tr>\n",
       "    <tr>\n",
       "      <th>mean_test_f025_score</th>\n",
       "      <td>0.901498</td>\n",
       "    </tr>\n",
       "    <tr>\n",
       "      <th>mean_train_f025_score</th>\n",
       "      <td>0.913827</td>\n",
       "    </tr>\n",
       "    <tr>\n",
       "      <th>mean_test_avg_dollars_lost_per_prediction</th>\n",
       "      <td>-4.772188</td>\n",
       "    </tr>\n",
       "    <tr>\n",
       "      <th>mean_train_avg_dollars_lost_per_prediction</th>\n",
       "      <td>-4.199336</td>\n",
       "    </tr>\n",
       "    <tr>\n",
       "      <th>mean_test_accuracy</th>\n",
       "      <td>0.909797</td>\n",
       "    </tr>\n",
       "    <tr>\n",
       "      <th>mean_train_accuracy</th>\n",
       "      <td>0.919572</td>\n",
       "    </tr>\n",
       "  </tbody>\n",
       "</table>\n",
       "</div>"
      ],
      "text/plain": [
       "                                            LGBM Default Params, DAI Features, Imputer\n",
       "mean_test_f025_score                                                          0.901498\n",
       "mean_train_f025_score                                                         0.913827\n",
       "mean_test_f025_score                                                          0.901498\n",
       "mean_train_f025_score                                                         0.913827\n",
       "mean_test_avg_dollars_lost_per_prediction                                    -4.772188\n",
       "mean_train_avg_dollars_lost_per_prediction                                   -4.199336\n",
       "mean_test_accuracy                                                            0.909797\n",
       "mean_train_accuracy                                                           0.919572"
      ]
     },
     "execution_count": 32,
     "metadata": {},
     "output_type": "execute_result"
    }
   ],
   "source": [
    "gs_def_dai_imp_df = display_cross_validation_scores(gs=gs_def_dai_imp, model_name=MODEL_NAME)\n",
    "gs_def_dai_imp_df"
   ]
  },
  {
   "cell_type": "code",
   "execution_count": 33,
   "id": "10de80f9-3e28-418d-8475-010cc5742599",
   "metadata": {},
   "outputs": [
    {
     "name": "stdout",
     "output_type": "stream",
     "text": [
      "================= LGBM Default Params, DAI Features, Imputer =================\n",
      "Best Iteration: 100\n",
      "accuracy: Train=0.918578125, Validation=0.9098125\n",
      "f025_score: Train=0.9131488499162775, Validation=0.9030259572637316\n",
      "f05_score: Train=0.9077315064523143, Validation=0.8971998837321966\n",
      "avg_dollars_lost_per_prediction: Train=4.2328125, Validation=4.70375\n",
      "==============================================================================\n"
     ]
    }
   ],
   "source": [
    "def_dai_imp_train_pred_df, def_dai_imp_val_pred_df = get_val_performance_after_all_train_refit(gs=gs_def_dai_imp, \n",
    "                                                                                       X_train=X_train_dai, \n",
    "                                                                                       y_train=y_train, \n",
    "                                                                                       X_val=X_val_dai, \n",
    "                                                                                       y_val=y_val, \n",
    "                                                                                       model_name=MODEL_NAME)"
   ]
  },
  {
   "cell_type": "markdown",
   "id": "eed49360-0795-45ea-81de-7aedccb776e1",
   "metadata": {},
   "source": [
    "## Model: LightGBM DAI Hyperparams, All Features"
   ]
  },
  {
   "cell_type": "code",
   "execution_count": 34,
   "id": "a88e2af2-576b-4545-93ce-493d2e672384",
   "metadata": {},
   "outputs": [],
   "source": [
    "best_param_grid_all = {f\"model__{key}\":value for key, value in best_param_grid.items()}"
   ]
  },
  {
   "cell_type": "code",
   "execution_count": null,
   "id": "ac5df306-c6d8-4968-8f33-f8bbf51bc4bc",
   "metadata": {},
   "outputs": [],
   "source": [
    "%%time\n",
    "\n",
    "MODEL_NAME = \"LGBM DAI Params, All Features\"\n",
    "\n",
    "dai_all_pipe = Pipeline(steps=[(\"to_dataframe\", FunctionTransformer(func=to_dataframe_and_dtypes)), \n",
    "                          ('model', LGBMClassifier(n_jobs=32, \n",
    "                                                   random_state=7742))])\n",
    "\n",
    "\n",
    "cv_splitter = StratifiedKFold(n_splits=5, \n",
    "                              shuffle=True, \n",
    "                              random_state=7742)\n",
    "\n",
    "gs_dai_all = GridSearchCV(estimator=dai_all_pipe, \n",
    "                   param_grid=best_param_grid_all, \n",
    "                   refit=\"avg_dollars_lost_per_prediction\",\n",
    "                   scoring=scorers_dict, \n",
    "                   cv=cv_splitter,\n",
    "                   n_jobs=32, \n",
    "                   error_score=\"raise\", \n",
    "                   return_train_score=True)\n",
    "\n",
    "gs_dai_all.fit(X=X_train, \n",
    "        y=y_train, \n",
    "        model__callbacks=[early_stopping(stopping_rounds=EARLY_STOPPING_ROUNDS, \n",
    "                                  first_metric_only=True, \n",
    "                                  verbose=True)], \n",
    "        model__eval_metric=[average_dollars_scorer_lgbm, \n",
    "                     fpt5_scorer_lgbm, \n",
    "                     \"binary\", \n",
    "                     \"accuracy\"], \n",
    "        model__eval_set=[(X_val, y_val)])"
   ]
  },
  {
   "cell_type": "code",
   "execution_count": 36,
   "id": "f90f1b4a-173c-48cf-ab8c-b5008c690b1a",
   "metadata": {},
   "outputs": [
    {
     "data": {
      "text/html": [
       "<div>\n",
       "<style scoped>\n",
       "    .dataframe tbody tr th:only-of-type {\n",
       "        vertical-align: middle;\n",
       "    }\n",
       "\n",
       "    .dataframe tbody tr th {\n",
       "        vertical-align: top;\n",
       "    }\n",
       "\n",
       "    .dataframe thead th {\n",
       "        text-align: right;\n",
       "    }\n",
       "</style>\n",
       "<table border=\"1\" class=\"dataframe\">\n",
       "  <thead>\n",
       "    <tr style=\"text-align: right;\">\n",
       "      <th></th>\n",
       "      <th>LGBM DAI Params, All Features</th>\n",
       "    </tr>\n",
       "  </thead>\n",
       "  <tbody>\n",
       "    <tr>\n",
       "      <th>mean_test_f025_score</th>\n",
       "      <td>0.934334</td>\n",
       "    </tr>\n",
       "    <tr>\n",
       "      <th>mean_train_f025_score</th>\n",
       "      <td>0.992197</td>\n",
       "    </tr>\n",
       "    <tr>\n",
       "      <th>mean_test_f025_score</th>\n",
       "      <td>0.934334</td>\n",
       "    </tr>\n",
       "    <tr>\n",
       "      <th>mean_train_f025_score</th>\n",
       "      <td>0.992197</td>\n",
       "    </tr>\n",
       "    <tr>\n",
       "      <th>mean_test_avg_dollars_lost_per_prediction</th>\n",
       "      <td>-3.208594</td>\n",
       "    </tr>\n",
       "    <tr>\n",
       "      <th>mean_train_avg_dollars_lost_per_prediction</th>\n",
       "      <td>-0.391719</td>\n",
       "    </tr>\n",
       "    <tr>\n",
       "      <th>mean_test_accuracy</th>\n",
       "      <td>0.940852</td>\n",
       "    </tr>\n",
       "    <tr>\n",
       "      <th>mean_train_accuracy</th>\n",
       "      <td>0.992547</td>\n",
       "    </tr>\n",
       "  </tbody>\n",
       "</table>\n",
       "</div>"
      ],
      "text/plain": [
       "                                            LGBM DAI Params, All Features\n",
       "mean_test_f025_score                                             0.934334\n",
       "mean_train_f025_score                                            0.992197\n",
       "mean_test_f025_score                                             0.934334\n",
       "mean_train_f025_score                                            0.992197\n",
       "mean_test_avg_dollars_lost_per_prediction                       -3.208594\n",
       "mean_train_avg_dollars_lost_per_prediction                      -0.391719\n",
       "mean_test_accuracy                                               0.940852\n",
       "mean_train_accuracy                                              0.992547"
      ]
     },
     "execution_count": 36,
     "metadata": {},
     "output_type": "execute_result"
    }
   ],
   "source": [
    "gs_dai_all_df = display_cross_validation_scores(gs=gs_dai_all, model_name=MODEL_NAME)\n",
    "gs_dai_all_df"
   ]
  },
  {
   "cell_type": "code",
   "execution_count": 37,
   "id": "6dcc35a0-7458-4890-9105-1f7614b7b7f9",
   "metadata": {},
   "outputs": [
    {
     "name": "stdout",
     "output_type": "stream",
     "text": [
      "================= LGBM DAI Params, All Features =================\n",
      "Best Iteration: 227\n",
      "accuracy: Train=0.982484375, Validation=0.9375\n",
      "f025_score: Train=0.9813235460348293, Validation=0.9319772631183351\n",
      "f05_score: Train=0.9802869208891258, Validation=0.928460045189829\n",
      "avg_dollars_lost_per_prediction: Train=0.9315625, Validation=3.33\n",
      "=================================================================\n"
     ]
    }
   ],
   "source": [
    "gs_dai_all_train_pred_df, gs_dai_all_val_pred_df = get_val_performance_after_all_train_refit(gs=gs_dai_all, \n",
    "                                                                                       X_train=X_train, \n",
    "                                                                                       y_train=y_train, \n",
    "                                                                                       X_val=X_val, \n",
    "                                                                                       y_val=y_val, \n",
    "                                                                                       model_name=MODEL_NAME)"
   ]
  },
  {
   "cell_type": "markdown",
   "id": "9890b3ec-d233-4ccb-9592-43cbd68e2001",
   "metadata": {},
   "source": [
    "## Model: LightGBM DAI Hyperparams, All Features, With Imputer"
   ]
  },
  {
   "cell_type": "code",
   "execution_count": null,
   "id": "8846ba0c-b651-4d4d-8eb1-c1d8dab056e1",
   "metadata": {},
   "outputs": [],
   "source": [
    "%%time\n",
    "\n",
    "MODEL_NAME = \"LGBM DAI Params, All Features, Imputer\"\n",
    "\n",
    "all_columns = X_train.columns\n",
    "categorical_columns = X_train.select_dtypes(include=[\"category\"]).columns.tolist()\n",
    "numeric_columns = [col for col in all_columns if col not in categorical_columns]\n",
    "categorical_column_indicies = [index for index, col in enumerate(all_columns) if col in categorical_columns]\n",
    "categorical_column_indicies\n",
    "\n",
    "\n",
    "categorical_pipe = Pipeline(steps=[(\"categorical_imputer\", SimpleImputer(strategy=\"most_frequent\"))])\n",
    "\n",
    "numeric_pipe = Pipeline(steps=[(\"numeric_imputer\", SimpleImputer(strategy=\"mean\"))])\n",
    "\n",
    "preprocess = ColumnTransformer(transformers=[(\"numeric_pipe\", numeric_pipe, numeric_columns), \n",
    "                                             (\"cat_pipe\", categorical_pipe, categorical_columns)], \n",
    "                               remainder=\"passthrough\")\n",
    "\n",
    "preprocess_to_df = Pipeline(steps=[(\"imputers\", preprocess), \n",
    "                                   (\"to_dataframe\", FunctionTransformer(func=to_dataframe_and_dtypes))])\n",
    "\n",
    "dai_all_imp_pipe = Pipeline(steps=[(\"preprocess\", preprocess_to_df), \n",
    "                          ('model', LGBMClassifier(n_jobs=32, \n",
    "                                                   random_state=7742))])\n",
    "\n",
    "\n",
    "cv_splitter = StratifiedKFold(n_splits=5, \n",
    "                              shuffle=True, \n",
    "                              random_state=7742)\n",
    "\n",
    "gs_dai_all_imp = GridSearchCV(estimator=dai_all_imp_pipe, \n",
    "                   param_grid=best_param_grid_all, \n",
    "                   refit=\"avg_dollars_lost_per_prediction\",\n",
    "                   scoring=scorers_dict, \n",
    "                   cv=cv_splitter,\n",
    "                   n_jobs=32, \n",
    "                   error_score=\"raise\", \n",
    "                   return_train_score=True)\n",
    "\n",
    "gs_dai_all_imp.fit(X=X_train, \n",
    "        y=y_train, \n",
    "        model__callbacks=[early_stopping(stopping_rounds=EARLY_STOPPING_ROUNDS, \n",
    "                                  first_metric_only=True, \n",
    "                                  verbose=True)], \n",
    "        model__eval_metric=[average_dollars_scorer_lgbm, \n",
    "                     fpt5_scorer_lgbm, \n",
    "                     \"binary\", \n",
    "                     \"accuracy\"], \n",
    "        model__eval_set=[(X_val, y_val)])"
   ]
  },
  {
   "cell_type": "code",
   "execution_count": 39,
   "id": "4ed2efd9-962c-4cca-b039-242ae9f89d99",
   "metadata": {},
   "outputs": [],
   "source": [
    "X_cat_pp = preprocess_to_df.fit_transform(X_train)"
   ]
  },
  {
   "cell_type": "code",
   "execution_count": 40,
   "id": "7e436004-6b27-4476-bb84-aa0f4af8a52a",
   "metadata": {},
   "outputs": [
    {
     "data": {
      "text/plain": [
       "asia       111114\n",
       "euorpe      13296\n",
       "america      3590\n",
       "Name: 47, dtype: int64"
      ]
     },
     "execution_count": 40,
     "metadata": {},
     "output_type": "execute_result"
    }
   ],
   "source": [
    "pd.DataFrame(X_cat_pp)[47].value_counts()"
   ]
  },
  {
   "cell_type": "code",
   "execution_count": 41,
   "id": "1ba1484e-e229-429b-833f-9db606803cda",
   "metadata": {},
   "outputs": [
    {
     "data": {
      "text/plain": [
       "July         36387\n",
       "June         33090\n",
       "August       23492\n",
       "May          17602\n",
       "September     8665\n",
       "April         5449\n",
       "October       1935\n",
       "March          971\n",
       "November       270\n",
       "February       113\n",
       "December        18\n",
       "January          8\n",
       "Name: 48, dtype: int64"
      ]
     },
     "execution_count": 41,
     "metadata": {},
     "output_type": "execute_result"
    }
   ],
   "source": [
    "pd.DataFrame(X_cat_pp)[48].value_counts()"
   ]
  },
  {
   "cell_type": "code",
   "execution_count": 42,
   "id": "13acef2f-7e86-4db2-9eee-1e730fff629b",
   "metadata": {},
   "outputs": [
    {
     "data": {
      "text/html": [
       "<div>\n",
       "<style scoped>\n",
       "    .dataframe tbody tr th:only-of-type {\n",
       "        vertical-align: middle;\n",
       "    }\n",
       "\n",
       "    .dataframe tbody tr th {\n",
       "        vertical-align: top;\n",
       "    }\n",
       "\n",
       "    .dataframe thead th {\n",
       "        text-align: right;\n",
       "    }\n",
       "</style>\n",
       "<table border=\"1\" class=\"dataframe\">\n",
       "  <thead>\n",
       "    <tr style=\"text-align: right;\">\n",
       "      <th></th>\n",
       "      <th>LGBM DAI Params, All Features, Imputer</th>\n",
       "    </tr>\n",
       "  </thead>\n",
       "  <tbody>\n",
       "    <tr>\n",
       "      <th>mean_test_f025_score</th>\n",
       "      <td>0.921096</td>\n",
       "    </tr>\n",
       "    <tr>\n",
       "      <th>mean_train_f025_score</th>\n",
       "      <td>0.942293</td>\n",
       "    </tr>\n",
       "    <tr>\n",
       "      <th>mean_test_f025_score</th>\n",
       "      <td>0.921096</td>\n",
       "    </tr>\n",
       "    <tr>\n",
       "      <th>mean_train_f025_score</th>\n",
       "      <td>0.942293</td>\n",
       "    </tr>\n",
       "    <tr>\n",
       "      <th>mean_test_avg_dollars_lost_per_prediction</th>\n",
       "      <td>-3.969375</td>\n",
       "    </tr>\n",
       "    <tr>\n",
       "      <th>mean_train_avg_dollars_lost_per_prediction</th>\n",
       "      <td>-3.018867</td>\n",
       "    </tr>\n",
       "    <tr>\n",
       "      <th>mean_test_accuracy</th>\n",
       "      <td>0.905625</td>\n",
       "    </tr>\n",
       "    <tr>\n",
       "      <th>mean_train_accuracy</th>\n",
       "      <td>0.924736</td>\n",
       "    </tr>\n",
       "  </tbody>\n",
       "</table>\n",
       "</div>"
      ],
      "text/plain": [
       "                                            LGBM DAI Params, All Features, Imputer\n",
       "mean_test_f025_score                                                      0.921096\n",
       "mean_train_f025_score                                                     0.942293\n",
       "mean_test_f025_score                                                      0.921096\n",
       "mean_train_f025_score                                                     0.942293\n",
       "mean_test_avg_dollars_lost_per_prediction                                -3.969375\n",
       "mean_train_avg_dollars_lost_per_prediction                               -3.018867\n",
       "mean_test_accuracy                                                        0.905625\n",
       "mean_train_accuracy                                                       0.924736"
      ]
     },
     "execution_count": 42,
     "metadata": {},
     "output_type": "execute_result"
    }
   ],
   "source": [
    "gs_dai_all_imp_df = display_cross_validation_scores(gs=gs_dai_all_imp, model_name=MODEL_NAME)\n",
    "gs_dai_all_imp_df"
   ]
  },
  {
   "cell_type": "code",
   "execution_count": 43,
   "id": "49c029cd-f02f-44e1-b6fd-cb1e57e6f85c",
   "metadata": {},
   "outputs": [
    {
     "name": "stdout",
     "output_type": "stream",
     "text": [
      "================= LGBM DAI Params, All Features, Imputer =================\n",
      "Best Iteration: 38\n",
      "accuracy: Train=0.93540625, Validation=0.91475\n",
      "f025_score: Train=0.9426038332067248, Validation=0.919970912807209\n",
      "f05_score: Train=0.93426680952342, Validation=0.9100975045447034\n",
      "avg_dollars_lost_per_prediction: Train=2.918125, Validation=3.965\n",
      "==========================================================================\n"
     ]
    }
   ],
   "source": [
    "gs_dai_all_imp_train_pred_df, gs_dai_all_imp_val_pred_df = get_val_performance_after_all_train_refit(gs=gs_dai_all_imp, \n",
    "                                                                                       X_train=X_train, \n",
    "                                                                                       y_train=y_train, \n",
    "                                                                                       X_val=X_val, \n",
    "                                                                                       y_val=y_val, \n",
    "                                                                                       model_name=MODEL_NAME)"
   ]
  },
  {
   "cell_type": "markdown",
   "id": "195bb1cd-e933-4fc4-b497-bb37a2c15cf1",
   "metadata": {},
   "source": [
    "## Model: LightGBM Default Hyperparams, All Features"
   ]
  },
  {
   "cell_type": "code",
   "execution_count": null,
   "id": "f0fe9567-4e7c-4e5b-a909-08957e8c1587",
   "metadata": {},
   "outputs": [],
   "source": [
    "%%time\n",
    "\n",
    "MODEL_NAME = \"LGBM Default Params, All Features\"\n",
    "\n",
    "all_pipe = Pipeline(steps=[(\"to_dataframe\", FunctionTransformer(func=to_dataframe_and_dtypes)), \n",
    "                          ('model', LGBMClassifier(n_jobs=32, \n",
    "                                                   random_state=7742))])\n",
    "\n",
    "\n",
    "cv_splitter = StratifiedKFold(n_splits=5, \n",
    "                              shuffle=True, \n",
    "                              random_state=7742)\n",
    "\n",
    "gs_def_all= GridSearchCV(estimator=all_pipe, \n",
    "                   param_grid={}, \n",
    "                   refit=\"avg_dollars_lost_per_prediction\",\n",
    "                   scoring=scorers_dict, \n",
    "                   cv=cv_splitter,\n",
    "                   n_jobs=32, \n",
    "                   error_score=\"raise\", \n",
    "                   return_train_score=True)\n",
    "\n",
    "gs_def_all.fit(X=X_train, \n",
    "        y=y_train, \n",
    "        model__callbacks=[early_stopping(stopping_rounds=EARLY_STOPPING_ROUNDS, \n",
    "                                  first_metric_only=True, \n",
    "                                  verbose=True)], \n",
    "        model__eval_metric=[average_dollars_scorer_lgbm, \n",
    "                     fpt5_scorer_lgbm, \n",
    "                     \"binary\", \n",
    "                     \"accuracy\"], \n",
    "        model__eval_set=[(X_val, y_val)])"
   ]
  },
  {
   "cell_type": "code",
   "execution_count": 45,
   "id": "d19b5b8c-dee6-48e4-a338-5a2a9a27866b",
   "metadata": {},
   "outputs": [
    {
     "data": {
      "text/html": [
       "<div>\n",
       "<style scoped>\n",
       "    .dataframe tbody tr th:only-of-type {\n",
       "        vertical-align: middle;\n",
       "    }\n",
       "\n",
       "    .dataframe tbody tr th {\n",
       "        vertical-align: top;\n",
       "    }\n",
       "\n",
       "    .dataframe thead th {\n",
       "        text-align: right;\n",
       "    }\n",
       "</style>\n",
       "<table border=\"1\" class=\"dataframe\">\n",
       "  <thead>\n",
       "    <tr style=\"text-align: right;\">\n",
       "      <th></th>\n",
       "      <th>LGBM Default Params, All Features</th>\n",
       "    </tr>\n",
       "  </thead>\n",
       "  <tbody>\n",
       "    <tr>\n",
       "      <th>mean_test_f025_score</th>\n",
       "      <td>0.901484</td>\n",
       "    </tr>\n",
       "    <tr>\n",
       "      <th>mean_train_f025_score</th>\n",
       "      <td>0.912123</td>\n",
       "    </tr>\n",
       "    <tr>\n",
       "      <th>mean_test_f025_score</th>\n",
       "      <td>0.901484</td>\n",
       "    </tr>\n",
       "    <tr>\n",
       "      <th>mean_train_f025_score</th>\n",
       "      <td>0.912123</td>\n",
       "    </tr>\n",
       "    <tr>\n",
       "      <th>mean_test_avg_dollars_lost_per_prediction</th>\n",
       "      <td>-4.773438</td>\n",
       "    </tr>\n",
       "    <tr>\n",
       "      <th>mean_train_avg_dollars_lost_per_prediction</th>\n",
       "      <td>-4.276055</td>\n",
       "    </tr>\n",
       "    <tr>\n",
       "      <th>mean_test_accuracy</th>\n",
       "      <td>0.909484</td>\n",
       "    </tr>\n",
       "    <tr>\n",
       "      <th>mean_train_accuracy</th>\n",
       "      <td>0.918822</td>\n",
       "    </tr>\n",
       "  </tbody>\n",
       "</table>\n",
       "</div>"
      ],
      "text/plain": [
       "                                            LGBM Default Params, All Features\n",
       "mean_test_f025_score                                                 0.901484\n",
       "mean_train_f025_score                                                0.912123\n",
       "mean_test_f025_score                                                 0.901484\n",
       "mean_train_f025_score                                                0.912123\n",
       "mean_test_avg_dollars_lost_per_prediction                           -4.773438\n",
       "mean_train_avg_dollars_lost_per_prediction                          -4.276055\n",
       "mean_test_accuracy                                                   0.909484\n",
       "mean_train_accuracy                                                  0.918822"
      ]
     },
     "execution_count": 45,
     "metadata": {},
     "output_type": "execute_result"
    }
   ],
   "source": [
    "gs_def_all_df = display_cross_validation_scores(gs=gs_def_all, model_name=MODEL_NAME)\n",
    "gs_def_all_df"
   ]
  },
  {
   "cell_type": "code",
   "execution_count": 46,
   "id": "fc9ada8f-7234-4bce-ac21-4b3f5d64311e",
   "metadata": {},
   "outputs": [
    {
     "name": "stdout",
     "output_type": "stream",
     "text": [
      "================= LGBM Default Params, All Features =================\n",
      "Best Iteration: 100\n",
      "accuracy: Train=0.917453125, Validation=0.906\n",
      "f025_score: Train=0.9102324091540022, Validation=0.8967826758000439\n",
      "f05_score: Train=0.9053705977227317, Validation=0.8914828530027371\n",
      "avg_dollars_lost_per_prediction: Train=4.3634375, Validation=4.99\n",
      "=====================================================================\n"
     ]
    }
   ],
   "source": [
    "def_all_train_pred_df, def_all_val_pred_df = get_val_performance_after_all_train_refit(gs=gs_def_all, \n",
    "                                                                                       X_train=X_train, \n",
    "                                                                                       y_train=y_train, \n",
    "                                                                                       X_val=X_val, \n",
    "                                                                                       y_val=y_val, \n",
    "                                                                                       model_name=MODEL_NAME)"
   ]
  },
  {
   "cell_type": "markdown",
   "id": "b66c23a0-dfe8-40ba-b222-5a70cd9221c0",
   "metadata": {},
   "source": [
    "## Model: LightGBM Default Hyperparams, All Features, Imputer"
   ]
  },
  {
   "cell_type": "code",
   "execution_count": null,
   "id": "132bed49-95fa-4b17-820c-a111856bc749",
   "metadata": {},
   "outputs": [],
   "source": [
    "%%time\n",
    "\n",
    "MODEL_NAME = \"LGBM Default Params, All Features, Imputer\"\n",
    "\n",
    "all_columns = X_train.columns\n",
    "categorical_columns = X_train.select_dtypes(include=[\"category\"]).columns.tolist()\n",
    "numeric_columns = [col for col in all_columns if col not in categorical_columns]\n",
    "categorical_column_indicies = [index for index, col in enumerate(all_columns) if col in categorical_columns]\n",
    "categorical_column_indicies\n",
    "\n",
    "\n",
    "categorical_pipe = Pipeline(steps=[(\"categorical_imputer\", SimpleImputer(strategy=\"most_frequent\"))])\n",
    "\n",
    "numeric_pipe = Pipeline(steps=[(\"numeric_imputer\", SimpleImputer(strategy=\"mean\"))])\n",
    "\n",
    "preprocess = ColumnTransformer(transformers=[(\"numeric_pipe\", numeric_pipe, numeric_columns), \n",
    "                                             (\"cat_pipe\", categorical_pipe, categorical_columns)], \n",
    "                               remainder=\"passthrough\")\n",
    "\n",
    "preprocess_to_df = Pipeline(steps=[(\"imputers\", preprocess), \n",
    "                                   (\"to_dataframe\", FunctionTransformer(func=to_dataframe_and_dtypes))])\n",
    "\n",
    "all_imp_pipe = Pipeline(steps=[(\"preprocess\", preprocess_to_df), \n",
    "                          ('model', LGBMClassifier(n_jobs=32, \n",
    "                                                   random_state=7742))])\n",
    "\n",
    "\n",
    "cv_splitter = StratifiedKFold(n_splits=5, \n",
    "                              shuffle=True, \n",
    "                              random_state=7742)\n",
    "\n",
    "gs_def_all_imp = GridSearchCV(estimator=all_imp_pipe, \n",
    "                   param_grid={}, \n",
    "                   refit=\"avg_dollars_lost_per_prediction\",\n",
    "                   scoring=scorers_dict, \n",
    "                   cv=cv_splitter,\n",
    "                   n_jobs=32, \n",
    "                   error_score=\"raise\", \n",
    "                   return_train_score=True)\n",
    "\n",
    "gs_def_all_imp.fit(X=X_train, \n",
    "        y=y_train, \n",
    "        model__callbacks=[early_stopping(stopping_rounds=EARLY_STOPPING_ROUNDS, \n",
    "                                  first_metric_only=True, \n",
    "                                  verbose=True)], \n",
    "        model__eval_metric=[average_dollars_scorer_lgbm, \n",
    "                     fpt5_scorer_lgbm, \n",
    "                     \"binary\", \n",
    "                     \"accuracy\"], \n",
    "        model__eval_set=[(X_val, y_val)])"
   ]
  },
  {
   "cell_type": "code",
   "execution_count": 48,
   "id": "adcaef6b-ce03-4231-b743-8002698a35da",
   "metadata": {},
   "outputs": [
    {
     "data": {
      "text/html": [
       "<div>\n",
       "<style scoped>\n",
       "    .dataframe tbody tr th:only-of-type {\n",
       "        vertical-align: middle;\n",
       "    }\n",
       "\n",
       "    .dataframe tbody tr th {\n",
       "        vertical-align: top;\n",
       "    }\n",
       "\n",
       "    .dataframe thead th {\n",
       "        text-align: right;\n",
       "    }\n",
       "</style>\n",
       "<table border=\"1\" class=\"dataframe\">\n",
       "  <thead>\n",
       "    <tr style=\"text-align: right;\">\n",
       "      <th></th>\n",
       "      <th>LGBM Default Params, All Features, Imputer</th>\n",
       "    </tr>\n",
       "  </thead>\n",
       "  <tbody>\n",
       "    <tr>\n",
       "      <th>mean_test_f025_score</th>\n",
       "      <td>0.844830</td>\n",
       "    </tr>\n",
       "    <tr>\n",
       "      <th>mean_train_f025_score</th>\n",
       "      <td>0.852053</td>\n",
       "    </tr>\n",
       "    <tr>\n",
       "      <th>mean_test_f025_score</th>\n",
       "      <td>0.844830</td>\n",
       "    </tr>\n",
       "    <tr>\n",
       "      <th>mean_train_f025_score</th>\n",
       "      <td>0.852053</td>\n",
       "    </tr>\n",
       "    <tr>\n",
       "      <th>mean_test_avg_dollars_lost_per_prediction</th>\n",
       "      <td>-7.106094</td>\n",
       "    </tr>\n",
       "    <tr>\n",
       "      <th>mean_train_avg_dollars_lost_per_prediction</th>\n",
       "      <td>-6.827695</td>\n",
       "    </tr>\n",
       "    <tr>\n",
       "      <th>mean_test_accuracy</th>\n",
       "      <td>0.828914</td>\n",
       "    </tr>\n",
       "    <tr>\n",
       "      <th>mean_train_accuracy</th>\n",
       "      <td>0.834529</td>\n",
       "    </tr>\n",
       "  </tbody>\n",
       "</table>\n",
       "</div>"
      ],
      "text/plain": [
       "                                            LGBM Default Params, All Features, Imputer\n",
       "mean_test_f025_score                                                          0.844830\n",
       "mean_train_f025_score                                                         0.852053\n",
       "mean_test_f025_score                                                          0.844830\n",
       "mean_train_f025_score                                                         0.852053\n",
       "mean_test_avg_dollars_lost_per_prediction                                    -7.106094\n",
       "mean_train_avg_dollars_lost_per_prediction                                   -6.827695\n",
       "mean_test_accuracy                                                            0.828914\n",
       "mean_train_accuracy                                                           0.834529"
      ]
     },
     "execution_count": 48,
     "metadata": {},
     "output_type": "execute_result"
    }
   ],
   "source": [
    "gs_def_all_imp_df = display_cross_validation_scores(gs=gs_def_all_imp, model_name=MODEL_NAME)\n",
    "gs_def_all_imp_df"
   ]
  },
  {
   "cell_type": "code",
   "execution_count": 49,
   "id": "f370a532-3f9e-4a25-8ced-798587cfb43f",
   "metadata": {},
   "outputs": [
    {
     "name": "stdout",
     "output_type": "stream",
     "text": [
      "================= LGBM Default Params, All Features, Imputer =================\n",
      "Best Iteration: 11\n",
      "accuracy: Train=0.8255390625, Validation=0.8226875\n",
      "f025_score: Train=0.8481855811253066, Validation=0.8476228366819175\n",
      "f05_score: Train=0.816234913854209, Validation=0.8138202375950189\n",
      "avg_dollars_lost_per_prediction: Train=6.93859375, Validation=6.94125\n",
      "==============================================================================\n"
     ]
    }
   ],
   "source": [
    "def_all_imp_train_pred_df, def_all_imp_val_pred_df = get_val_performance_after_all_train_refit(gs=gs_def_all_imp, \n",
    "                                                                                       X_train=X_train, \n",
    "                                                                                       y_train=y_train, \n",
    "                                                                                       X_val=X_val, \n",
    "                                                                                       y_val=y_val, \n",
    "                                                                                       model_name=MODEL_NAME)"
   ]
  },
  {
   "cell_type": "code",
   "execution_count": null,
   "id": "41e757ce-b80d-4948-a2e1-2f56e1cacc3e",
   "metadata": {},
   "outputs": [],
   "source": []
  }
 ],
 "metadata": {
  "kernelspec": {
   "display_name": "Python [conda env:capstone_smu]",
   "language": "python",
   "name": "conda-env-capstone_smu-py"
  },
  "language_info": {
   "codemirror_mode": {
    "name": "ipython",
    "version": 3
   },
   "file_extension": ".py",
   "mimetype": "text/x-python",
   "name": "python",
   "nbconvert_exporter": "python",
   "pygments_lexer": "ipython3",
   "version": "3.8.13"
  }
 },
 "nbformat": 4,
 "nbformat_minor": 5
}
