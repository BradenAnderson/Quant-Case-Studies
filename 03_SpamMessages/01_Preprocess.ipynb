{
 "cells": [
  {
   "cell_type": "code",
   "execution_count": 1,
   "id": "bfe31ca8-3273-44fd-a1a8-7ecc01dfd468",
   "metadata": {},
   "outputs": [],
   "source": [
    "import numpy as np\n",
    "import pandas as pd\n",
    "import matplotlib.pyplot as plt\n",
    "import seaborn as sns\n",
    "\n",
    "import os\n",
    "import email\n",
    "\n",
    "from spam import *"
   ]
  },
  {
   "cell_type": "code",
   "execution_count": 2,
   "id": "cb03c183-9bc0-45b0-aa95-ed1c8787dc7f",
   "metadata": {},
   "outputs": [],
   "source": [
    "msg_df = import_emails(root_dir=\"./SpamAssassinMessages\", encoding=\"cp437\", positive_indicator=\"spam\")"
   ]
  },
  {
   "cell_type": "code",
   "execution_count": 4,
   "id": "411fa940-8534-49dd-9223-b4aeb722a1bf",
   "metadata": {},
   "outputs": [
    {
     "data": {
      "text/html": [
       "<div>\n",
       "<style scoped>\n",
       "    .dataframe tbody tr th:only-of-type {\n",
       "        vertical-align: middle;\n",
       "    }\n",
       "\n",
       "    .dataframe tbody tr th {\n",
       "        vertical-align: top;\n",
       "    }\n",
       "\n",
       "    .dataframe thead th {\n",
       "        text-align: right;\n",
       "    }\n",
       "</style>\n",
       "<table border=\"1\" class=\"dataframe\">\n",
       "  <thead>\n",
       "    <tr style=\"text-align: right;\">\n",
       "      <th></th>\n",
       "      <th>text</th>\n",
       "      <th>label</th>\n",
       "      <th>is_multipart</th>\n",
       "      <th>content_type</th>\n",
       "      <th>message</th>\n",
       "      <th>foldername</th>\n",
       "      <th>filename</th>\n",
       "      <th>filepath</th>\n",
       "      <th>content_main_type</th>\n",
       "      <th>content_sub_type</th>\n",
       "      <th>charsets</th>\n",
       "      <th>params</th>\n",
       "    </tr>\n",
       "  </thead>\n",
       "  <tbody>\n",
       "    <tr>\n",
       "      <th>0</th>\n",
       "      <td>Date:        Wed, 21 Aug 2002 10:54:46 -0...</td>\n",
       "      <td>0</td>\n",
       "      <td>0</td>\n",
       "      <td>text/plain</td>\n",
       "      <td>[Return-Path, Delivered-To, Received, Received...</td>\n",
       "      <td>easy_ham</td>\n",
       "      <td>00001.7c53336b37003a9286aba55d2945844c</td>\n",
       "      <td>./SpamAssassinMessages\\easy_ham\\00001.7c53336b...</td>\n",
       "      <td>text</td>\n",
       "      <td>plain</td>\n",
       "      <td>plain</td>\n",
       "      <td>[us-ascii]</td>\n",
       "    </tr>\n",
       "    <tr>\n",
       "      <th>1</th>\n",
       "      <td>Martin A posted:\\nTassos Papadopoulos, the Gr...</td>\n",
       "      <td>0</td>\n",
       "      <td>0</td>\n",
       "      <td>text/plain</td>\n",
       "      <td>[Return-Path, Delivered-To, Received, Received...</td>\n",
       "      <td>easy_ham</td>\n",
       "      <td>00002.9c4069e25e1ef370c078db7ee85ff9ac</td>\n",
       "      <td>./SpamAssassinMessages\\easy_ham\\00002.9c4069e2...</td>\n",
       "      <td>text</td>\n",
       "      <td>plain</td>\n",
       "      <td>plain</td>\n",
       "      <td>[us-ascii]</td>\n",
       "    </tr>\n",
       "  </tbody>\n",
       "</table>\n",
       "</div>"
      ],
      "text/plain": [
       "                                                text  label  is_multipart  \\\n",
       "0       Date:        Wed, 21 Aug 2002 10:54:46 -0...      0             0   \n",
       "1   Martin A posted:\\nTassos Papadopoulos, the Gr...      0             0   \n",
       "\n",
       "  content_type                                            message foldername  \\\n",
       "0   text/plain  [Return-Path, Delivered-To, Received, Received...   easy_ham   \n",
       "1   text/plain  [Return-Path, Delivered-To, Received, Received...   easy_ham   \n",
       "\n",
       "                                 filename  \\\n",
       "0  00001.7c53336b37003a9286aba55d2945844c   \n",
       "1  00002.9c4069e25e1ef370c078db7ee85ff9ac   \n",
       "\n",
       "                                            filepath content_main_type  \\\n",
       "0  ./SpamAssassinMessages\\easy_ham\\00001.7c53336b...              text   \n",
       "1  ./SpamAssassinMessages\\easy_ham\\00002.9c4069e2...              text   \n",
       "\n",
       "  content_sub_type charsets      params  \n",
       "0            plain    plain  [us-ascii]  \n",
       "1            plain    plain  [us-ascii]  "
      ]
     },
     "execution_count": 4,
     "metadata": {},
     "output_type": "execute_result"
    }
   ],
   "source": [
    "msg_df.head(2)"
   ]
  },
  {
   "cell_type": "code",
   "execution_count": 5,
   "id": "f11c3ade-f053-446a-8512-e4545ca925d4",
   "metadata": {},
   "outputs": [
    {
     "data": {
      "text/plain": [
       "text/plain                     7413\n",
       "text/html                      1193\n",
       "multipart/alternative           326\n",
       "multipart/signed                180\n",
       "multipart/mixed                 179\n",
       "multipart/related                56\n",
       "multipart/report                  5\n",
       "text/plain charset=us-ascii       1\n",
       "Name: content_type, dtype: int64"
      ]
     },
     "execution_count": 5,
     "metadata": {},
     "output_type": "execute_result"
    }
   ],
   "source": [
    "msg_df['content_type'].value_counts()"
   ]
  },
  {
   "cell_type": "code",
   "execution_count": 6,
   "id": "3303aa5f-f832-4204-a51f-a9e396973783",
   "metadata": {},
   "outputs": [
    {
     "data": {
      "text/plain": [
       "0    8610\n",
       "1     743\n",
       "Name: is_multipart, dtype: int64"
      ]
     },
     "execution_count": 6,
     "metadata": {},
     "output_type": "execute_result"
    }
   ],
   "source": [
    "msg_df['is_multipart'].value_counts()"
   ]
  },
  {
   "cell_type": "code",
   "execution_count": 7,
   "id": "01f7fcd0-bee2-41e4-b66c-c645b8444486",
   "metadata": {},
   "outputs": [
    {
     "data": {
      "text/plain": [
       "0    6954\n",
       "1    2399\n",
       "Name: label, dtype: int64"
      ]
     },
     "execution_count": 7,
     "metadata": {},
     "output_type": "execute_result"
    }
   ],
   "source": [
    "msg_df['label'].value_counts()"
   ]
  },
  {
   "cell_type": "code",
   "execution_count": 8,
   "id": "3cb05c46-7e46-40da-ab3b-a5a9aef578be",
   "metadata": {},
   "outputs": [
    {
     "data": {
      "text/plain": [
       "[us-ascii]                                            3273\n",
       "[None]                                                2972\n",
       "[iso-8859-1]                                          1944\n",
       "[windows-1252]                                         197\n",
       "[None, us-ascii, None]                                 184\n",
       "                                                      ... \n",
       "[us-ascii, us-ascii, us-ascii]                           1\n",
       "[None, iso-8859-1, None, us-ascii]                       1\n",
       "[None, us-ascii, us-ascii, us-ascii]                     1\n",
       "[None, None, us-ascii, None, None, us-ascii, None]       1\n",
       "[iso-8859-3]                                             1\n",
       "Name: params, Length: 64, dtype: int64"
      ]
     },
     "execution_count": 8,
     "metadata": {},
     "output_type": "execute_result"
    }
   ],
   "source": [
    "msg_df['params'].value_counts()"
   ]
  },
  {
   "cell_type": "code",
   "execution_count": null,
   "id": "44d90f9a-cee7-465f-83ed-f1903dc6a4cf",
   "metadata": {},
   "outputs": [],
   "source": []
  }
 ],
 "metadata": {
  "kernelspec": {
   "display_name": "Python [conda env:qtw_cs3]",
   "language": "python",
   "name": "conda-env-qtw_cs3-py"
  },
  "language_info": {
   "codemirror_mode": {
    "name": "ipython",
    "version": 3
   },
   "file_extension": ".py",
   "mimetype": "text/x-python",
   "name": "python",
   "nbconvert_exporter": "python",
   "pygments_lexer": "ipython3",
   "version": "3.9.13"
  }
 },
 "nbformat": 4,
 "nbformat_minor": 5
}
